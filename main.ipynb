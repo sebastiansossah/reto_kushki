{
 "cells": [
  {
   "cell_type": "code",
   "execution_count": 1,
   "metadata": {},
   "outputs": [],
   "source": [
    "import pandas as pd\n",
    "pd.set_option('display.max_columns', None)\n",
    "import matplotlib.pyplot as plt\n",
    "\n",
    "import json"
   ]
  },
  {
   "cell_type": "code",
   "execution_count": 2,
   "metadata": {},
   "outputs": [],
   "source": [
    "path = r'C:\\Users\\sebastian sossa\\Documents\\reto_kushki\\DATA1.csv'\n",
    "df = pd.read_csv(path)"
   ]
  },
  {
   "attachments": {},
   "cell_type": "markdown",
   "metadata": {},
   "source": [
    "### EDA"
   ]
  },
  {
   "cell_type": "code",
   "execution_count": 3,
   "metadata": {},
   "outputs": [
    {
     "data": {
      "text/html": [
       "<div>\n",
       "<style scoped>\n",
       "    .dataframe tbody tr th:only-of-type {\n",
       "        vertical-align: middle;\n",
       "    }\n",
       "\n",
       "    .dataframe tbody tr th {\n",
       "        vertical-align: top;\n",
       "    }\n",
       "\n",
       "    .dataframe thead th {\n",
       "        text-align: right;\n",
       "    }\n",
       "</style>\n",
       "<table border=\"1\" class=\"dataframe\">\n",
       "  <thead>\n",
       "    <tr style=\"text-align: right;\">\n",
       "      <th></th>\n",
       "      <th>ticket_number</th>\n",
       "      <th>method</th>\n",
       "      <th>date</th>\n",
       "      <th>response_text</th>\n",
       "      <th>transaction_status</th>\n",
       "      <th>brand</th>\n",
       "      <th>transaction_type</th>\n",
       "      <th>number_of_months</th>\n",
       "      <th>metadata</th>\n",
       "      <th>subscription_metadata</th>\n",
       "      <th>processor_name</th>\n",
       "      <th>recap</th>\n",
       "      <th>security</th>\n",
       "      <th>paper</th>\n",
       "    </tr>\n",
       "  </thead>\n",
       "  <tbody>\n",
       "    <tr>\n",
       "      <th>0</th>\n",
       "      <td>1.556687e+15</td>\n",
       "      <td>transfer</td>\n",
       "      <td>2019-05-02T00:01:28-05:00</td>\n",
       "      <td>NaN</td>\n",
       "      <td>APPROVAL</td>\n",
       "      <td>TOLL</td>\n",
       "      <td>SALE</td>\n",
       "      <td>NaN</td>\n",
       "      <td>{Type\":\"CI\",\"kind\":\"query\",\"Numeric\":\"0321X562...</td>\n",
       "      <td>NaN</td>\n",
       "      <td>Highway Processor</td>\n",
       "      <td>NaN</td>\n",
       "      <td>NaN</td>\n",
       "      <td>NaN</td>\n",
       "    </tr>\n",
       "    <tr>\n",
       "      <th>1</th>\n",
       "      <td>1.556687e+15</td>\n",
       "      <td>transfer</td>\n",
       "      <td>2019-05-02T00:04:24-05:00</td>\n",
       "      <td>NaN</td>\n",
       "      <td>APPROVAL</td>\n",
       "      <td>TOLL</td>\n",
       "      <td>SALE</td>\n",
       "      <td>NaN</td>\n",
       "      <td>{Type\":\"CI\",\"kind\":\"plastic\",\"Numeric\":\"0321X5...</td>\n",
       "      <td>NaN</td>\n",
       "      <td>Highway Processor</td>\n",
       "      <td>NaN</td>\n",
       "      <td>NaN</td>\n",
       "      <td>NaN</td>\n",
       "    </tr>\n",
       "  </tbody>\n",
       "</table>\n",
       "</div>"
      ],
      "text/plain": [
       "   ticket_number    method                       date response_text  \\\n",
       "0   1.556687e+15  transfer  2019-05-02T00:01:28-05:00           NaN   \n",
       "1   1.556687e+15  transfer  2019-05-02T00:04:24-05:00           NaN   \n",
       "\n",
       "  transaction_status brand transaction_type  number_of_months  \\\n",
       "0           APPROVAL  TOLL             SALE               NaN   \n",
       "1           APPROVAL  TOLL             SALE               NaN   \n",
       "\n",
       "                                            metadata  subscription_metadata  \\\n",
       "0  {Type\":\"CI\",\"kind\":\"query\",\"Numeric\":\"0321X562...                    NaN   \n",
       "1  {Type\":\"CI\",\"kind\":\"plastic\",\"Numeric\":\"0321X5...                    NaN   \n",
       "\n",
       "      processor_name recap  security  paper  \n",
       "0  Highway Processor   NaN       NaN    NaN  \n",
       "1  Highway Processor   NaN       NaN    NaN  "
      ]
     },
     "execution_count": 3,
     "metadata": {},
     "output_type": "execute_result"
    }
   ],
   "source": [
    "df.head(2)"
   ]
  },
  {
   "cell_type": "code",
   "execution_count": 4,
   "metadata": {},
   "outputs": [
    {
     "name": "stdout",
     "output_type": "stream",
     "text": [
      "Index(['ticket_number', 'method', 'date', 'response_text',\n",
      "       'transaction_status', 'brand', 'transaction_type', 'number_of_months',\n",
      "       'metadata', 'subscription_metadata', 'processor_name', 'recap',\n",
      "       'security', 'paper'],\n",
      "      dtype='object')\n",
      "(5956, 14)\n"
     ]
    }
   ],
   "source": [
    "print(df.columns)\n",
    "print(df.shape)"
   ]
  },
  {
   "attachments": {},
   "cell_type": "markdown",
   "metadata": {},
   "source": [
    "Tenemos un dataset con 5956 rows y 14 columnas"
   ]
  },
  {
   "cell_type": "code",
   "execution_count": 5,
   "metadata": {},
   "outputs": [
    {
     "data": {
      "text/plain": [
       "array([           nan, 1.55671813e+09, 1.55671821e+09, 1.55672183e+09,\n",
       "       1.55672230e+09, 1.55672867e+09, 1.55672943e+09, 1.55658242e+09,\n",
       "       1.55674570e+09, 1.55674677e+09, 1.55675744e+09, 1.55676337e+09,\n",
       "       1.55679952e+09, 1.55680209e+09, 1.55680229e+09, 1.55680240e+09,\n",
       "       1.55680413e+09, 1.55680486e+09, 1.55680490e+09, 1.55680499e+09,\n",
       "       1.55680573e+09, 1.55680579e+09, 1.55680641e+09, 1.55680656e+09,\n",
       "       1.55680688e+09, 1.55680743e+09, 1.55680828e+09, 1.55680861e+09,\n",
       "       1.55680874e+09, 1.55680927e+09, 1.55680946e+09, 1.55680959e+09,\n",
       "       1.55681105e+09, 1.55681244e+09, 1.55681312e+09, 1.55681605e+09,\n",
       "       1.55681613e+09, 1.55681738e+09, 1.55681762e+09, 1.55681794e+09,\n",
       "       1.55682169e+09, 1.55682182e+09, 1.55682208e+09, 1.55682231e+09,\n",
       "       1.55682334e+09, 1.55682390e+09, 1.55682418e+09, 1.55682449e+09,\n",
       "       1.55682453e+09, 1.55682582e+09, 1.55657696e+09, 1.55682654e+09,\n",
       "       1.55682680e+09, 1.55682303e+09, 1.55682989e+09, 1.55683026e+09,\n",
       "       1.55683063e+09, 1.55683498e+09, 1.55683730e+09, 1.55684153e+09,\n",
       "       1.55684268e+09, 1.55684575e+09, 1.55684654e+09, 1.55685099e+09])"
      ]
     },
     "execution_count": 5,
     "metadata": {},
     "output_type": "execute_result"
    }
   ],
   "source": [
    "df['paper'].unique()"
   ]
  },
  {
   "cell_type": "code",
   "execution_count": 6,
   "metadata": {},
   "outputs": [
    {
     "name": "stdout",
     "output_type": "stream",
     "text": [
      "ticket_number            float64\n",
      "method                    object\n",
      "date                      object\n",
      "response_text             object\n",
      "transaction_status        object\n",
      "brand                     object\n",
      "transaction_type          object\n",
      "number_of_months         float64\n",
      "metadata                  object\n",
      "subscription_metadata    float64\n",
      "processor_name            object\n",
      "recap                     object\n",
      "security                 float64\n",
      "paper                    float64\n",
      "dtype: object\n"
     ]
    }
   ],
   "source": [
    "print(df.dtypes)"
   ]
  },
  {
   "cell_type": "code",
   "execution_count": 7,
   "metadata": {},
   "outputs": [
    {
     "name": "stdout",
     "output_type": "stream",
     "text": [
      "ticket_number             504\n",
      "method                      0\n",
      "date                        0\n",
      "response_text            4245\n",
      "transaction_status          0\n",
      "brand                       0\n",
      "transaction_type            0\n",
      "number_of_months         4245\n",
      "metadata                    0\n",
      "subscription_metadata    5956\n",
      "processor_name             23\n",
      "recap                    5955\n",
      "security                 5956\n",
      "paper                    5893\n",
      "dtype: int64\n"
     ]
    }
   ],
   "source": [
    "print(df.isnull().sum())"
   ]
  },
  {
   "attachments": {},
   "cell_type": "markdown",
   "metadata": {},
   "source": [
    "Las columnas de paper, recap y paper tienen en su mayoria datos nulos"
   ]
  },
  {
   "cell_type": "code",
   "execution_count": 8,
   "metadata": {},
   "outputs": [
    {
     "name": "stdout",
     "output_type": "stream",
     "text": [
      "{Type\":\"CI\",\"kind\":\"query\",\"Numeric\":\"0321X5627920554\",\"name\":\"Marina quiñonez de vera\",\"id\":\"1556686891823050\",\"transactionId\":\"20091802\",\"user\":\"ddaniela.correavbfro.32lowone.cl\",\"transactionResult\":\"created\",\"token\":\"7d67f8fd3b5a43709ff21426eeddc2c2\"}\"\n"
     ]
    }
   ],
   "source": [
    "print(df['metadata'][0])"
   ]
  },
  {
   "attachments": {},
   "cell_type": "markdown",
   "metadata": {},
   "source": [
    "La columna 'metadata' tiene una gran cantidad de datos que nos puede ser de ayuda, por lo que vamos a extraer los datos de esta columna, que estan en formato de diccionario y vamos a crear un nuevo dataset"
   ]
  },
  {
   "attachments": {},
   "cell_type": "markdown",
   "metadata": {},
   "source": [
    "## Primera tarea"
   ]
  },
  {
   "cell_type": "code",
   "execution_count": 9,
   "metadata": {},
   "outputs": [
    {
     "data": {
      "text/html": [
       "<div>\n",
       "<style scoped>\n",
       "    .dataframe tbody tr th:only-of-type {\n",
       "        vertical-align: middle;\n",
       "    }\n",
       "\n",
       "    .dataframe tbody tr th {\n",
       "        vertical-align: top;\n",
       "    }\n",
       "\n",
       "    .dataframe thead th {\n",
       "        text-align: right;\n",
       "    }\n",
       "</style>\n",
       "<table border=\"1\" class=\"dataframe\">\n",
       "  <thead>\n",
       "    <tr style=\"text-align: right;\">\n",
       "      <th></th>\n",
       "      <th>ticket_number</th>\n",
       "      <th>method</th>\n",
       "      <th>date</th>\n",
       "      <th>response_text</th>\n",
       "      <th>transaction_status</th>\n",
       "      <th>brand</th>\n",
       "      <th>transaction_type</th>\n",
       "      <th>number_of_months</th>\n",
       "      <th>metadata</th>\n",
       "      <th>subscription_metadata</th>\n",
       "      <th>processor_name</th>\n",
       "      <th>recap</th>\n",
       "      <th>security</th>\n",
       "      <th>paper</th>\n",
       "    </tr>\n",
       "  </thead>\n",
       "  <tbody>\n",
       "    <tr>\n",
       "      <th>0</th>\n",
       "      <td>1.556687e+15</td>\n",
       "      <td>transfer</td>\n",
       "      <td>2019-05-02T00:01:28-05:00</td>\n",
       "      <td>NaN</td>\n",
       "      <td>APPROVAL</td>\n",
       "      <td>TOLL</td>\n",
       "      <td>SALE</td>\n",
       "      <td>NaN</td>\n",
       "      <td>{Type\":\"CI\",\"kind\":\"query\",\"Numeric\":\"0321X562...</td>\n",
       "      <td>NaN</td>\n",
       "      <td>Highway Processor</td>\n",
       "      <td>NaN</td>\n",
       "      <td>NaN</td>\n",
       "      <td>NaN</td>\n",
       "    </tr>\n",
       "    <tr>\n",
       "      <th>1</th>\n",
       "      <td>1.556687e+15</td>\n",
       "      <td>transfer</td>\n",
       "      <td>2019-05-02T00:04:24-05:00</td>\n",
       "      <td>NaN</td>\n",
       "      <td>APPROVAL</td>\n",
       "      <td>TOLL</td>\n",
       "      <td>SALE</td>\n",
       "      <td>NaN</td>\n",
       "      <td>{Type\":\"CI\",\"kind\":\"plastic\",\"Numeric\":\"0321X5...</td>\n",
       "      <td>NaN</td>\n",
       "      <td>Highway Processor</td>\n",
       "      <td>NaN</td>\n",
       "      <td>NaN</td>\n",
       "      <td>NaN</td>\n",
       "    </tr>\n",
       "  </tbody>\n",
       "</table>\n",
       "</div>"
      ],
      "text/plain": [
       "   ticket_number    method                       date response_text  \\\n",
       "0   1.556687e+15  transfer  2019-05-02T00:01:28-05:00           NaN   \n",
       "1   1.556687e+15  transfer  2019-05-02T00:04:24-05:00           NaN   \n",
       "\n",
       "  transaction_status brand transaction_type  number_of_months  \\\n",
       "0           APPROVAL  TOLL             SALE               NaN   \n",
       "1           APPROVAL  TOLL             SALE               NaN   \n",
       "\n",
       "                                            metadata  subscription_metadata  \\\n",
       "0  {Type\":\"CI\",\"kind\":\"query\",\"Numeric\":\"0321X562...                    NaN   \n",
       "1  {Type\":\"CI\",\"kind\":\"plastic\",\"Numeric\":\"0321X5...                    NaN   \n",
       "\n",
       "      processor_name recap  security  paper  \n",
       "0  Highway Processor   NaN       NaN    NaN  \n",
       "1  Highway Processor   NaN       NaN    NaN  "
      ]
     },
     "execution_count": 9,
     "metadata": {},
     "output_type": "execute_result"
    }
   ],
   "source": [
    "df.head(2)"
   ]
  },
  {
   "attachments": {},
   "cell_type": "markdown",
   "metadata": {},
   "source": [
    "Creamos una lista por los intervalos de tiempo que vamos a analizar"
   ]
  },
  {
   "cell_type": "code",
   "execution_count": 10,
   "metadata": {},
   "outputs": [],
   "source": [
    "hours_list = [f\"{i:02d}:00 - {i:02d}:59\" for i in range(24)]"
   ]
  },
  {
   "cell_type": "code",
   "execution_count": 11,
   "metadata": {},
   "outputs": [
    {
     "data": {
      "text/plain": [
       "'2019-05-02T00:01:28-05:00'"
      ]
     },
     "execution_count": 11,
     "metadata": {},
     "output_type": "execute_result"
    }
   ],
   "source": [
    "df['date'][0]"
   ]
  },
  {
   "attachments": {},
   "cell_type": "markdown",
   "metadata": {},
   "source": [
    "El formato esta en string, para la tarea lo necesitamos en datetime"
   ]
  },
  {
   "cell_type": "code",
   "execution_count": 12,
   "metadata": {},
   "outputs": [],
   "source": [
    "df['date'] = pd.to_datetime(df['date'])"
   ]
  },
  {
   "cell_type": "code",
   "execution_count": 13,
   "metadata": {},
   "outputs": [
    {
     "data": {
      "text/plain": [
       "Timestamp('2019-05-02 00:01:28-0500', tz='pytz.FixedOffset(-300)')"
      ]
     },
     "execution_count": 13,
     "metadata": {},
     "output_type": "execute_result"
    }
   ],
   "source": [
    "df['date'][0]"
   ]
  },
  {
   "cell_type": "code",
   "execution_count": 14,
   "metadata": {},
   "outputs": [],
   "source": [
    "df_h = df\n",
    "df_h['HOUR'] = pd.cut(df['date'].dt.hour, bins=range(0,25), labels=hours_list)\n",
    "transactions_by_hour = df_h.groupby('HOUR').size().reset_index(name='#TRXS')"
   ]
  },
  {
   "attachments": {},
   "cell_type": "markdown",
   "metadata": {},
   "source": [
    "Descargamos la nueva tabla en excel"
   ]
  },
  {
   "cell_type": "code",
   "execution_count": 15,
   "metadata": {},
   "outputs": [],
   "source": [
    "transactions_by_hour.to_excel('transactions_by_hour.xlsx', index=False)"
   ]
  },
  {
   "attachments": {},
   "cell_type": "markdown",
   "metadata": {},
   "source": [
    "## Segunda tarea"
   ]
  },
  {
   "attachments": {},
   "cell_type": "markdown",
   "metadata": {},
   "source": [
    "En base a los datos generados en la nueva tabla Número de Ventas por Hora, generar y \n",
    "presentar resumen de estadística descriptiva (Media, Mediana, Moda, Desviación \n",
    "Estándar, Varianza, Rango, Min, Max, etc.). ¿Existen puntos calientes de venta durante \n",
    "el día? ¿Qué indica la varianza con respecto al comportamiento de ventas durante el \n",
    "día? ¿Es el número de observaciones de esta nueva tabla suficiente para tener \n",
    "conclusiones definitivas? "
   ]
  },
  {
   "cell_type": "code",
   "execution_count": 16,
   "metadata": {},
   "outputs": [
    {
     "data": {
      "text/html": [
       "<div>\n",
       "<style scoped>\n",
       "    .dataframe tbody tr th:only-of-type {\n",
       "        vertical-align: middle;\n",
       "    }\n",
       "\n",
       "    .dataframe tbody tr th {\n",
       "        vertical-align: top;\n",
       "    }\n",
       "\n",
       "    .dataframe thead th {\n",
       "        text-align: right;\n",
       "    }\n",
       "</style>\n",
       "<table border=\"1\" class=\"dataframe\">\n",
       "  <thead>\n",
       "    <tr style=\"text-align: right;\">\n",
       "      <th></th>\n",
       "      <th>#TRXS</th>\n",
       "    </tr>\n",
       "  </thead>\n",
       "  <tbody>\n",
       "    <tr>\n",
       "      <th>count</th>\n",
       "      <td>24.000000</td>\n",
       "    </tr>\n",
       "    <tr>\n",
       "      <th>mean</th>\n",
       "      <td>247.708333</td>\n",
       "    </tr>\n",
       "    <tr>\n",
       "      <th>std</th>\n",
       "      <td>214.726617</td>\n",
       "    </tr>\n",
       "    <tr>\n",
       "      <th>min</th>\n",
       "      <td>0.000000</td>\n",
       "    </tr>\n",
       "    <tr>\n",
       "      <th>25%</th>\n",
       "      <td>23.750000</td>\n",
       "    </tr>\n",
       "    <tr>\n",
       "      <th>50%</th>\n",
       "      <td>263.000000</td>\n",
       "    </tr>\n",
       "    <tr>\n",
       "      <th>75%</th>\n",
       "      <td>414.500000</td>\n",
       "    </tr>\n",
       "    <tr>\n",
       "      <th>max</th>\n",
       "      <td>600.000000</td>\n",
       "    </tr>\n",
       "  </tbody>\n",
       "</table>\n",
       "</div>"
      ],
      "text/plain": [
       "            #TRXS\n",
       "count   24.000000\n",
       "mean   247.708333\n",
       "std    214.726617\n",
       "min      0.000000\n",
       "25%     23.750000\n",
       "50%    263.000000\n",
       "75%    414.500000\n",
       "max    600.000000"
      ]
     },
     "execution_count": 16,
     "metadata": {},
     "output_type": "execute_result"
    }
   ],
   "source": [
    "transactions_by_hour.describe()"
   ]
  },
  {
   "cell_type": "code",
   "execution_count": 17,
   "metadata": {},
   "outputs": [
    {
     "data": {
      "text/plain": [
       "Index(['HOUR', '#TRXS'], dtype='object')"
      ]
     },
     "execution_count": 17,
     "metadata": {},
     "output_type": "execute_result"
    }
   ],
   "source": [
    "transactions_by_hour.columns"
   ]
  },
  {
   "cell_type": "code",
   "execution_count": 18,
   "metadata": {},
   "outputs": [
    {
     "data": {
      "image/png": "[encoded data removed]",
      "text/plain": [
       "<Figure size 432x288 with 1 Axes>"
      ]
     },
     "metadata": {
      "needs_background": "light"
     },
     "output_type": "display_data"
    }
   ],
   "source": [
    "# Create a scatter plot\n",
    "plt.boxplot(transactions_by_hour['#TRXS'], vert=True, patch_artist=True)\n",
    "plt.title('Box plot')\n",
    "plt.xlabel('X axis')\n",
    "plt.ylabel('Y axis')\n",
    "plt.show()\n"
   ]
  },
  {
   "attachments": {},
   "cell_type": "markdown",
   "metadata": {},
   "source": [
    "La media de transacciones en el dia es 247 transacciones por hora, teniendo una maxima de transacciones en el dia de 600 transacciones en una hora y minimo cero transacciones en una hora. \n",
    "Igualmente como podemos evidenciar, no tenemos outliers extremos, que salgan del rango inter cuartil. \n",
    "El el boxplor podriamos ver un tipo de distribucion que tiende hacia los valores inferiores, pero la media esta mas o menos en la mitad de la grafica"
   ]
  },
  {
   "cell_type": "code",
   "execution_count": 19,
   "metadata": {},
   "outputs": [
    {
     "data": {
      "image/png": "[encoded data removed]",
      "text/plain": [
       "<Figure size 432x288 with 1 Axes>"
      ]
     },
     "metadata": {
      "needs_background": "light"
     },
     "output_type": "display_data"
    }
   ],
   "source": [
    "label_hour = [ i for i in range(0,24)]\n",
    "\n",
    "plt.bar(label_hour, transactions_by_hour['#TRXS'])\n",
    "\n",
    "# set labels and title\n",
    "plt.xlabel('Hours')\n",
    "plt.ylabel('Frecuency of transactions')\n",
    "plt.title('Frequency Table')\n",
    "\n",
    "# show the plot\n",
    "plt.show()\n"
   ]
  },
  {
   "attachments": {},
   "cell_type": "markdown",
   "metadata": {},
   "source": [
    "En este grafico de frecuencias podemos evidenciar Double-Peaked Normal Distribution.\n",
    "Podemos evidenciar dos horas picos donde se realizan el maximo de transacciones, a las 10:00 horas y a las 12:00 horas, registrandose 600 y 589 transacciones respectivamente. \n",
    "Tambien podemos decir que desde las 23:00 las 3:00 son horas muertas en cantidad de transacciones, siendo las 23:00 las hora donde se presentan menos transacciones, siendo cero la cantidad de transacciones."
   ]
  },
  {
   "cell_type": "code",
   "execution_count": 20,
   "metadata": {},
   "outputs": [
    {
     "name": "stdout",
     "output_type": "stream",
     "text": [
      "2019-05-02 23:58:28-05:00\n",
      "2019-05-02 00:01:28-05:00\n"
     ]
    }
   ],
   "source": [
    "max_value = df['date'].max()\n",
    "min_value = df['date'].min()\n",
    "print(max_value)\n",
    "print(min_value)\n"
   ]
  },
  {
   "attachments": {},
   "cell_type": "markdown",
   "metadata": {},
   "source": [
    "La cantidad de datos en el dataset (5956) puede ser concluyente para analizar el comportamiento de transacciones en el dia determinado donde se realizo el analisis que es el 02/05/2019, sin embargo, no podemos tener conclusiones, fuera de ese dia, ya que el comportamiento puede variar dependiendo del dia de la semana, la epoca del año, etc. "
   ]
  },
  {
   "attachments": {},
   "cell_type": "markdown",
   "metadata": {},
   "source": [
    "## Tercer tarea"
   ]
  },
  {
   "attachments": {},
   "cell_type": "markdown",
   "metadata": {},
   "source": [
    "El dataset DATA1 contiene el campo con nombre “metadata” que constituye un string \n",
    "de texto con varios atributos adicionales de cada transacción/registro. Buscar el \n",
    "mecanismo para que dichos atributos adicionales se presenten como campos \n",
    "adicionales (columnas) de cada transacción en una nueva tabla. Indicar el mecanismo \n",
    "utilizado para esta extracción. "
   ]
  },
  {
   "cell_type": "code",
   "execution_count": 21,
   "metadata": {},
   "outputs": [
    {
     "data": {
      "text/plain": [
       "'{Type\":\"CI\",\"kind\":\"query\",\"Numeric\":\"0321X5627920554\",\"name\":\"Marina quiñonez de vera\",\"id\":\"1556686891823050\",\"transactionId\":\"20091802\",\"user\":\"ddaniela.correavbfro.32lowone.cl\",\"transactionResult\":\"created\",\"token\":\"7d67f8fd3b5a43709ff21426eeddc2c2\"}\"'"
      ]
     },
     "execution_count": 21,
     "metadata": {},
     "output_type": "execute_result"
    }
   ],
   "source": [
    "df['metadata'][0]"
   ]
  },
  {
   "attachments": {},
   "cell_type": "markdown",
   "metadata": {},
   "source": [
    "Podemos ver que los datos contenidos dentro de metadata tienen forma de diccionario, el diccionario es un tipo de dato que mas adelante podriamos convertir en columnas de un pandas dataframe. Dentro de esta columna de datos, hay una columna llamada id, que supongo que es el mismo ticknumber del dataset principal"
   ]
  },
  {
   "cell_type": "code",
   "execution_count": 22,
   "metadata": {},
   "outputs": [
    {
     "data": {
      "text/plain": [
       "1556686892267430.0"
      ]
     },
     "execution_count": 22,
     "metadata": {},
     "output_type": "execute_result"
    }
   ],
   "source": [
    "df['ticket_number'][0]"
   ]
  },
  {
   "cell_type": "code",
   "execution_count": 23,
   "metadata": {},
   "outputs": [
    {
     "name": "stdout",
     "output_type": "stream",
     "text": [
      "{\"Type\":\"CI\",\"kind\":\"query\",\"Numeric\":\"0321X5627920554\",\"name\":\"Marina quiñonez de vera\",\"id\":\"1556686891823050\",\"transactionId\":\"20091802\",\"user\":\"ddaniela.correavbfro.32lowone.cl\",\"transactionResult\":\"created\",\"token\":\"7d67f8fd3b5a43709ff21426eeddc2c2\"}\n"
     ]
    },
    {
     "data": {
      "text/plain": [
       "'1556686891823050'"
      ]
     },
     "execution_count": 23,
     "metadata": {},
     "output_type": "execute_result"
    }
   ],
   "source": [
    "first_metada =  '{' + '\"' + str(df['metadata'][0]).replace('{','').replace('}','')[:-1] + '}'\n",
    "print(first_metada)\n",
    "dictionary_firt = json.loads(first_metada)\n",
    "dictionary_firt[\"id\"]"
   ]
  },
  {
   "attachments": {},
   "cell_type": "markdown",
   "metadata": {},
   "source": [
    "Los datos de la columna metadata no tienen un correcto formato por lo que en este caso, arreglamos el formato para poder ser convertidos a diccionario por medio de la libreria json"
   ]
  },
  {
   "cell_type": "code",
   "execution_count": 24,
   "metadata": {},
   "outputs": [],
   "source": [
    "def clean_metadata(metadata):\n",
    "    metadata = metadata.replace(\"'\", '\"')\n",
    "    # Remove trailing quote\n",
    "    metadata = metadata.rstrip('\"')\n",
    "    metadata = '{' + '\"' + metadata[1:]\n",
    "    return metadata\n",
    "\n",
    "df['metadata'] = df['metadata'].apply(clean_metadata)"
   ]
  },
  {
   "attachments": {},
   "cell_type": "markdown",
   "metadata": {},
   "source": [
    "Al principio tratamos de convertir los datos que estan en formato json, en columnas dentro del dataframe, pero teniamos un error dentro del dataset, por lo que usamos eval() para encontrar donde esta el error y arregrarlo"
   ]
  },
  {
   "cell_type": "code",
   "execution_count": 25,
   "metadata": {},
   "outputs": [
    {
     "name": "stdout",
     "output_type": "stream",
     "text": [
      "SyntaxError in row 1878: {\"Type\":\"CI\",\"kind\":\"plastic\",\"Numeric\":\"0321X56830059566\",\"name\":\"optima tm sas\n"
     ]
    }
   ],
   "source": [
    "for i, s in enumerate(df['metadata']):\n",
    "    try:\n",
    "        dictionary = eval(s)\n",
    "    except SyntaxError:\n",
    "        print(f\"SyntaxError in row {i+1}: {s}\")\n"
   ]
  },
  {
   "attachments": {},
   "cell_type": "markdown",
   "metadata": {},
   "source": [
    "Encontramos que el error esta en la fila 1877, por lo que la arreglamos para proceder con la creacion del dataset"
   ]
  },
  {
   "cell_type": "code",
   "execution_count": 26,
   "metadata": {},
   "outputs": [
    {
     "name": "stderr",
     "output_type": "stream",
     "text": [
      "C:\\Users\\sebastian sossa\\AppData\\Local\\Temp\\ipykernel_6124\\372945192.py:1: SettingWithCopyWarning: \n",
      "A value is trying to be set on a copy of a slice from a DataFrame\n",
      "\n",
      "See the caveats in the documentation: https://pandas.pydata.org/pandas-docs/stable/user_guide/indexing.html#returning-a-view-versus-a-copy\n",
      "  df['metadata'][1877] = df['metadata'][1877][:-1] + '\"' + '}'\n"
     ]
    }
   ],
   "source": [
    "df['metadata'][1877] = df['metadata'][1877][:-1] + '\"' + '}'"
   ]
  },
  {
   "cell_type": "code",
   "execution_count": 27,
   "metadata": {},
   "outputs": [
    {
     "data": {
      "text/plain": [
       "'{\"Type\":\"CI\",\"kind\":\"plastic\",\"Numeric\":\"0321X56830059566\",\"name\":\"optima tm sa\"}'"
      ]
     },
     "execution_count": 27,
     "metadata": {},
     "output_type": "execute_result"
    }
   ],
   "source": [
    "df['metadata'][1877]"
   ]
  },
  {
   "attachments": {},
   "cell_type": "markdown",
   "metadata": {},
   "source": [
    "Una vez arreglado, creamos las columnas nuevas a partir de los datos proporcionados por la columna metadata"
   ]
  },
  {
   "cell_type": "code",
   "execution_count": 28,
   "metadata": {},
   "outputs": [],
   "source": [
    "df = pd.concat([df, pd.json_normalize(df['metadata'].apply(json.loads))], axis=1)"
   ]
  },
  {
   "cell_type": "code",
   "execution_count": 29,
   "metadata": {},
   "outputs": [
    {
     "data": {
      "text/plain": [
       "Index(['ticket_number', 'method', 'date', 'response_text',\n",
       "       'transaction_status', 'brand', 'transaction_type', 'number_of_months',\n",
       "       'metadata', 'subscription_metadata', 'processor_name', 'recap',\n",
       "       'security', 'paper', 'HOUR', 'Type', 'kind', 'Numeric', 'name', 'id',\n",
       "       'transactionId', 'user', 'transactionResult', 'token', 'id3', 'office',\n",
       "       'documentType'],\n",
       "      dtype='object')"
      ]
     },
     "execution_count": 29,
     "metadata": {},
     "output_type": "execute_result"
    }
   ],
   "source": [
    "df.columns"
   ]
  },
  {
   "cell_type": "code",
   "execution_count": 30,
   "metadata": {},
   "outputs": [
    {
     "data": {
      "text/plain": [
       "(5956, 27)"
      ]
     },
     "execution_count": 30,
     "metadata": {},
     "output_type": "execute_result"
    }
   ],
   "source": [
    "df.shape"
   ]
  },
  {
   "attachments": {},
   "cell_type": "markdown",
   "metadata": {},
   "source": [
    "En este caso nos queda un dataset con 5956 filas y 27 columnas"
   ]
  },
  {
   "attachments": {},
   "cell_type": "markdown",
   "metadata": {},
   "source": [
    "## Cuarta tarea"
   ]
  },
  {
   "attachments": {},
   "cell_type": "markdown",
   "metadata": {},
   "source": [
    "En base al dataset DATA1, determinar la tasa de aceptación general del día. PISTA: Tasa \n",
    "Aceptación= (Nro. Transacciones Aprobadas / Nro. Total de Transacciones). "
   ]
  },
  {
   "cell_type": "code",
   "execution_count": 31,
   "metadata": {},
   "outputs": [
    {
     "data": {
      "text/html": [
       "<div>\n",
       "<style scoped>\n",
       "    .dataframe tbody tr th:only-of-type {\n",
       "        vertical-align: middle;\n",
       "    }\n",
       "\n",
       "    .dataframe tbody tr th {\n",
       "        vertical-align: top;\n",
       "    }\n",
       "\n",
       "    .dataframe thead th {\n",
       "        text-align: right;\n",
       "    }\n",
       "</style>\n",
       "<table border=\"1\" class=\"dataframe\">\n",
       "  <thead>\n",
       "    <tr style=\"text-align: right;\">\n",
       "      <th></th>\n",
       "      <th>ticket_number</th>\n",
       "      <th>method</th>\n",
       "      <th>date</th>\n",
       "      <th>response_text</th>\n",
       "      <th>transaction_status</th>\n",
       "      <th>brand</th>\n",
       "      <th>transaction_type</th>\n",
       "      <th>number_of_months</th>\n",
       "      <th>metadata</th>\n",
       "      <th>subscription_metadata</th>\n",
       "      <th>processor_name</th>\n",
       "      <th>recap</th>\n",
       "      <th>security</th>\n",
       "      <th>paper</th>\n",
       "      <th>HOUR</th>\n",
       "      <th>Type</th>\n",
       "      <th>kind</th>\n",
       "      <th>Numeric</th>\n",
       "      <th>name</th>\n",
       "      <th>id</th>\n",
       "      <th>transactionId</th>\n",
       "      <th>user</th>\n",
       "      <th>transactionResult</th>\n",
       "      <th>token</th>\n",
       "      <th>id3</th>\n",
       "      <th>office</th>\n",
       "      <th>documentType</th>\n",
       "    </tr>\n",
       "  </thead>\n",
       "  <tbody>\n",
       "    <tr>\n",
       "      <th>0</th>\n",
       "      <td>1.556687e+15</td>\n",
       "      <td>transfer</td>\n",
       "      <td>2019-05-02 00:01:28-05:00</td>\n",
       "      <td>NaN</td>\n",
       "      <td>APPROVAL</td>\n",
       "      <td>TOLL</td>\n",
       "      <td>SALE</td>\n",
       "      <td>NaN</td>\n",
       "      <td>{\"Type\":\"CI\",\"kind\":\"query\",\"Numeric\":\"0321X56...</td>\n",
       "      <td>NaN</td>\n",
       "      <td>Highway Processor</td>\n",
       "      <td>NaN</td>\n",
       "      <td>NaN</td>\n",
       "      <td>NaN</td>\n",
       "      <td>NaN</td>\n",
       "      <td>CI</td>\n",
       "      <td>query</td>\n",
       "      <td>0321X5627920554</td>\n",
       "      <td>Marina quiñonez de vera</td>\n",
       "      <td>1556686891823050</td>\n",
       "      <td>20091802</td>\n",
       "      <td>ddaniela.correavbfro.32lowone.cl</td>\n",
       "      <td>created</td>\n",
       "      <td>7d67f8fd3b5a43709ff21426eeddc2c2</td>\n",
       "      <td>NaN</td>\n",
       "      <td>NaN</td>\n",
       "      <td>NaN</td>\n",
       "    </tr>\n",
       "  </tbody>\n",
       "</table>\n",
       "</div>"
      ],
      "text/plain": [
       "   ticket_number    method                      date response_text  \\\n",
       "0   1.556687e+15  transfer 2019-05-02 00:01:28-05:00           NaN   \n",
       "\n",
       "  transaction_status brand transaction_type  number_of_months  \\\n",
       "0           APPROVAL  TOLL             SALE               NaN   \n",
       "\n",
       "                                            metadata  subscription_metadata  \\\n",
       "0  {\"Type\":\"CI\",\"kind\":\"query\",\"Numeric\":\"0321X56...                    NaN   \n",
       "\n",
       "      processor_name recap  security  paper HOUR Type   kind          Numeric  \\\n",
       "0  Highway Processor   NaN       NaN    NaN  NaN   CI  query  0321X5627920554   \n",
       "\n",
       "                      name                id transactionId  \\\n",
       "0  Marina quiñonez de vera  1556686891823050      20091802   \n",
       "\n",
       "                               user transactionResult  \\\n",
       "0  ddaniela.correavbfro.32lowone.cl           created   \n",
       "\n",
       "                              token  id3 office documentType  \n",
       "0  7d67f8fd3b5a43709ff21426eeddc2c2  NaN    NaN          NaN  "
      ]
     },
     "execution_count": 31,
     "metadata": {},
     "output_type": "execute_result"
    }
   ],
   "source": [
    "df.head(1)"
   ]
  },
  {
   "attachments": {},
   "cell_type": "markdown",
   "metadata": {},
   "source": [
    "Verificamos si los datos de la columna estan correctos"
   ]
  },
  {
   "cell_type": "code",
   "execution_count": 32,
   "metadata": {},
   "outputs": [
    {
     "data": {
      "text/plain": [
       "array(['APPROVAL', 'DECLINED'], dtype=object)"
      ]
     },
     "execution_count": 32,
     "metadata": {},
     "output_type": "execute_result"
    }
   ],
   "source": [
    "df['transaction_status'].unique()"
   ]
  },
  {
   "attachments": {},
   "cell_type": "markdown",
   "metadata": {},
   "source": [
    "Verificamos si la columna tiene datos nulos "
   ]
  },
  {
   "cell_type": "code",
   "execution_count": 33,
   "metadata": {},
   "outputs": [
    {
     "data": {
      "text/plain": [
       "0"
      ]
     },
     "execution_count": 33,
     "metadata": {},
     "output_type": "execute_result"
    }
   ],
   "source": [
    "df['transaction_status'].isnull().sum()"
   ]
  },
  {
   "attachments": {},
   "cell_type": "markdown",
   "metadata": {},
   "source": [
    "No tenemos ningun dato nulo "
   ]
  },
  {
   "cell_type": "code",
   "execution_count": 34,
   "metadata": {},
   "outputs": [
    {
     "name": "stdout",
     "output_type": "stream",
     "text": [
      "Camtidad de transacciones aprobadas 4586\n",
      "Camtidad de transacciones NO aprobadas 1370\n",
      "Total de transacciones 5956 \n",
      "Cantidad de filas en el dataset 5956\n"
     ]
    }
   ],
   "source": [
    "numero_aprobadas = df['transaction_status'].str.contains('APPROVAL').sum()\n",
    "numero_no_aprobadas = df['transaction_status'].str.contains('DECLINED').sum()\n",
    "total = numero_aprobadas + numero_no_aprobadas\n",
    "print(f'Camtidad de transacciones aprobadas {numero_aprobadas}')\n",
    "print(f'Camtidad de transacciones NO aprobadas {numero_no_aprobadas}')\n",
    "print(f'Total de transacciones {total} ')\n",
    "print(f'Cantidad de filas en el dataset {df.shape[0]}')"
   ]
  },
  {
   "attachments": {},
   "cell_type": "markdown",
   "metadata": {},
   "source": [
    "Tenemos 4586 transacciones aprobadas, 1370 no aprobadas y la suma entre las dos nos da un total de 5956. Lo que coincide con el numero de filas en el dataset, por lo que podemos comprobar que los datos estan bien"
   ]
  },
  {
   "cell_type": "code",
   "execution_count": 83,
   "metadata": {},
   "outputs": [
    {
     "data": {
      "image/png": "[encoded data removed]",
      "text/plain": [
       "<Figure size 432x288 with 1 Axes>"
      ]
     },
     "metadata": {},
     "output_type": "display_data"
    }
   ],
   "source": [
    "sizes = [numero_aprobadas, numero_no_aprobadas]\n",
    "labels = ['Transacciones aprobadas', 'Transacciones no aprobadas']\n",
    "plt.pie(sizes, labels=labels, autopct='%1.1f%%')\n",
    "\n",
    "plt.axis('equal')\n",
    "plt.title('Tasa de aprobacion')\n",
    "plt.show()"
   ]
  },
  {
   "cell_type": "code",
   "execution_count": 35,
   "metadata": {},
   "outputs": [
    {
     "name": "stdout",
     "output_type": "stream",
     "text": [
      "La tasa de aceptacion del dia es 76.99798522498321%\n"
     ]
    }
   ],
   "source": [
    "tasa_de_aceptacion = str((numero_aprobadas/total)*100) + '%'\n",
    "print(f'La tasa de aceptacion del dia es {tasa_de_aceptacion}')"
   ]
  },
  {
   "attachments": {},
   "cell_type": "markdown",
   "metadata": {},
   "source": [
    "## Quinta tarea"
   ]
  },
  {
   "cell_type": "code",
   "execution_count": 36,
   "metadata": {},
   "outputs": [
    {
     "data": {
      "text/plain": [
       "0"
      ]
     },
     "execution_count": 36,
     "metadata": {},
     "output_type": "execute_result"
    }
   ],
   "source": [
    "df['method'].isnull().sum()"
   ]
  },
  {
   "cell_type": "code",
   "execution_count": 37,
   "metadata": {},
   "outputs": [
    {
     "data": {
      "text/html": [
       "<div>\n",
       "<style scoped>\n",
       "    .dataframe tbody tr th:only-of-type {\n",
       "        vertical-align: middle;\n",
       "    }\n",
       "\n",
       "    .dataframe tbody tr th {\n",
       "        vertical-align: top;\n",
       "    }\n",
       "\n",
       "    .dataframe thead th {\n",
       "        text-align: right;\n",
       "    }\n",
       "</style>\n",
       "<table border=\"1\" class=\"dataframe\">\n",
       "  <thead>\n",
       "    <tr style=\"text-align: right;\">\n",
       "      <th></th>\n",
       "      <th>ticket_number</th>\n",
       "      <th>method</th>\n",
       "      <th>date</th>\n",
       "      <th>response_text</th>\n",
       "      <th>transaction_status</th>\n",
       "      <th>brand</th>\n",
       "      <th>transaction_type</th>\n",
       "      <th>number_of_months</th>\n",
       "      <th>metadata</th>\n",
       "      <th>subscription_metadata</th>\n",
       "      <th>processor_name</th>\n",
       "      <th>recap</th>\n",
       "      <th>security</th>\n",
       "      <th>paper</th>\n",
       "      <th>HOUR</th>\n",
       "      <th>Type</th>\n",
       "      <th>kind</th>\n",
       "      <th>Numeric</th>\n",
       "      <th>name</th>\n",
       "      <th>id</th>\n",
       "      <th>transactionId</th>\n",
       "      <th>user</th>\n",
       "      <th>transactionResult</th>\n",
       "      <th>token</th>\n",
       "      <th>id3</th>\n",
       "      <th>office</th>\n",
       "      <th>documentType</th>\n",
       "    </tr>\n",
       "  </thead>\n",
       "  <tbody>\n",
       "    <tr>\n",
       "      <th>0</th>\n",
       "      <td>1.556687e+15</td>\n",
       "      <td>transfer</td>\n",
       "      <td>2019-05-02 00:01:28-05:00</td>\n",
       "      <td>NaN</td>\n",
       "      <td>APPROVAL</td>\n",
       "      <td>TOLL</td>\n",
       "      <td>SALE</td>\n",
       "      <td>NaN</td>\n",
       "      <td>{\"Type\":\"CI\",\"kind\":\"query\",\"Numeric\":\"0321X56...</td>\n",
       "      <td>NaN</td>\n",
       "      <td>Highway Processor</td>\n",
       "      <td>NaN</td>\n",
       "      <td>NaN</td>\n",
       "      <td>NaN</td>\n",
       "      <td>NaN</td>\n",
       "      <td>CI</td>\n",
       "      <td>query</td>\n",
       "      <td>0321X5627920554</td>\n",
       "      <td>Marina quiñonez de vera</td>\n",
       "      <td>1556686891823050</td>\n",
       "      <td>20091802</td>\n",
       "      <td>ddaniela.correavbfro.32lowone.cl</td>\n",
       "      <td>created</td>\n",
       "      <td>7d67f8fd3b5a43709ff21426eeddc2c2</td>\n",
       "      <td>NaN</td>\n",
       "      <td>NaN</td>\n",
       "      <td>NaN</td>\n",
       "    </tr>\n",
       "  </tbody>\n",
       "</table>\n",
       "</div>"
      ],
      "text/plain": [
       "   ticket_number    method                      date response_text  \\\n",
       "0   1.556687e+15  transfer 2019-05-02 00:01:28-05:00           NaN   \n",
       "\n",
       "  transaction_status brand transaction_type  number_of_months  \\\n",
       "0           APPROVAL  TOLL             SALE               NaN   \n",
       "\n",
       "                                            metadata  subscription_metadata  \\\n",
       "0  {\"Type\":\"CI\",\"kind\":\"query\",\"Numeric\":\"0321X56...                    NaN   \n",
       "\n",
       "      processor_name recap  security  paper HOUR Type   kind          Numeric  \\\n",
       "0  Highway Processor   NaN       NaN    NaN  NaN   CI  query  0321X5627920554   \n",
       "\n",
       "                      name                id transactionId  \\\n",
       "0  Marina quiñonez de vera  1556686891823050      20091802   \n",
       "\n",
       "                               user transactionResult  \\\n",
       "0  ddaniela.correavbfro.32lowone.cl           created   \n",
       "\n",
       "                              token  id3 office documentType  \n",
       "0  7d67f8fd3b5a43709ff21426eeddc2c2  NaN    NaN          NaN  "
      ]
     },
     "execution_count": 37,
     "metadata": {},
     "output_type": "execute_result"
    }
   ],
   "source": [
    "df.head(1)"
   ]
  },
  {
   "attachments": {},
   "cell_type": "markdown",
   "metadata": {},
   "source": [
    "En base al dataset DATA1, determinar la tasa de aceptación del día de venta especifica \n",
    "por: \n",
    "a. Método (“method”) \n",
    "b. Marca (“brand”) \n",
    "c. Procesador (“processor_name”)"
   ]
  },
  {
   "attachments": {},
   "cell_type": "markdown",
   "metadata": {},
   "source": [
    "### Tasa de aprovacion por metodo "
   ]
  },
  {
   "cell_type": "code",
   "execution_count": 38,
   "metadata": {},
   "outputs": [
    {
     "data": {
      "text/plain": [
       "array(['transfer', 'card', 'cash'], dtype=object)"
      ]
     },
     "execution_count": 38,
     "metadata": {},
     "output_type": "execute_result"
    }
   ],
   "source": [
    "df['method'].unique()"
   ]
  },
  {
   "cell_type": "code",
   "execution_count": 39,
   "metadata": {},
   "outputs": [
    {
     "name": "stdout",
     "output_type": "stream",
     "text": [
      "3376\n",
      "1207\n",
      "3\n",
      "5956\n",
      "5956\n"
     ]
    }
   ],
   "source": [
    "aprobada_transfer = df.loc[df['transaction_status'].str.contains('APPROVAL') & df['method'].str.contains('transfer')].shape[0] \n",
    "total_transfer = df['method'].str.contains('transfer').sum()\n",
    "tasa_transfer = (aprobada_transfer/df.shape[0])*100\n",
    "\n",
    "aprobada_card = df.loc[df['transaction_status'].str.contains('APPROVAL') & df['method'].str.contains('card')].shape[0]\n",
    "total_card = df['method'].str.contains('card').sum()\n",
    "tasa_card = (aprobada_card/df.shape[0])*100\n",
    "\n",
    "aprobada_cash = df.loc[df['transaction_status'].str.contains('APPROVAL') & df['method'].str.contains('cash')].shape[0]\n",
    "total_cash = df['method'].str.contains('cash').sum()\n",
    "tasa_cash = (aprobada_cash/df.shape[0])*100\n",
    "\n",
    "\n",
    "total = total_cash + total_card + total_transfer\n",
    "print(aprobada_transfer)\n",
    "print(aprobada_card)\n",
    "print(aprobada_cash)\n",
    "print(total)\n",
    "print(df.shape[0])\n",
    "\n"
   ]
  },
  {
   "cell_type": "code",
   "execution_count": 40,
   "metadata": {},
   "outputs": [
    {
     "name": "stdout",
     "output_type": "stream",
     "text": [
      "Tasa de aprovacion por transaferencia 56.68233713901948\n",
      "Tasa de aprovacion por card 20.26527871054399\n",
      "Tasa de aprovacion por cash 0.05036937541974479\n",
      "La tasa total de aprovacion es de 76.99798522498321\n"
     ]
    }
   ],
   "source": [
    "print(f'Tasa de aprovacion por transaferencia {tasa_transfer}')\n",
    "print(f'Tasa de aprovacion por card {tasa_card}')\n",
    "print(f'Tasa de aprovacion por cash {tasa_cash}')\n",
    "tasa_total_aprovacion = tasa_card  + tasa_cash + tasa_transfer\n",
    "print(f'La tasa total de aprovacion es de {tasa_total_aprovacion}')\n"
   ]
  },
  {
   "attachments": {},
   "cell_type": "markdown",
   "metadata": {},
   "source": [
    "### Tasa de aprovacion por marca"
   ]
  },
  {
   "cell_type": "code",
   "execution_count": 41,
   "metadata": {},
   "outputs": [
    {
     "data": {
      "text/html": [
       "<div>\n",
       "<style scoped>\n",
       "    .dataframe tbody tr th:only-of-type {\n",
       "        vertical-align: middle;\n",
       "    }\n",
       "\n",
       "    .dataframe tbody tr th {\n",
       "        vertical-align: top;\n",
       "    }\n",
       "\n",
       "    .dataframe thead th {\n",
       "        text-align: right;\n",
       "    }\n",
       "</style>\n",
       "<table border=\"1\" class=\"dataframe\">\n",
       "  <thead>\n",
       "    <tr style=\"text-align: right;\">\n",
       "      <th></th>\n",
       "      <th>ticket_number</th>\n",
       "      <th>method</th>\n",
       "      <th>date</th>\n",
       "      <th>response_text</th>\n",
       "      <th>transaction_status</th>\n",
       "      <th>brand</th>\n",
       "      <th>transaction_type</th>\n",
       "      <th>number_of_months</th>\n",
       "      <th>metadata</th>\n",
       "      <th>subscription_metadata</th>\n",
       "      <th>processor_name</th>\n",
       "      <th>recap</th>\n",
       "      <th>security</th>\n",
       "      <th>paper</th>\n",
       "      <th>HOUR</th>\n",
       "      <th>Type</th>\n",
       "      <th>kind</th>\n",
       "      <th>Numeric</th>\n",
       "      <th>name</th>\n",
       "      <th>id</th>\n",
       "      <th>transactionId</th>\n",
       "      <th>user</th>\n",
       "      <th>transactionResult</th>\n",
       "      <th>token</th>\n",
       "      <th>id3</th>\n",
       "      <th>office</th>\n",
       "      <th>documentType</th>\n",
       "    </tr>\n",
       "  </thead>\n",
       "  <tbody>\n",
       "    <tr>\n",
       "      <th>0</th>\n",
       "      <td>1.556687e+15</td>\n",
       "      <td>transfer</td>\n",
       "      <td>2019-05-02 00:01:28-05:00</td>\n",
       "      <td>NaN</td>\n",
       "      <td>APPROVAL</td>\n",
       "      <td>TOLL</td>\n",
       "      <td>SALE</td>\n",
       "      <td>NaN</td>\n",
       "      <td>{\"Type\":\"CI\",\"kind\":\"query\",\"Numeric\":\"0321X56...</td>\n",
       "      <td>NaN</td>\n",
       "      <td>Highway Processor</td>\n",
       "      <td>NaN</td>\n",
       "      <td>NaN</td>\n",
       "      <td>NaN</td>\n",
       "      <td>NaN</td>\n",
       "      <td>CI</td>\n",
       "      <td>query</td>\n",
       "      <td>0321X5627920554</td>\n",
       "      <td>Marina quiñonez de vera</td>\n",
       "      <td>1556686891823050</td>\n",
       "      <td>20091802</td>\n",
       "      <td>ddaniela.correavbfro.32lowone.cl</td>\n",
       "      <td>created</td>\n",
       "      <td>7d67f8fd3b5a43709ff21426eeddc2c2</td>\n",
       "      <td>NaN</td>\n",
       "      <td>NaN</td>\n",
       "      <td>NaN</td>\n",
       "    </tr>\n",
       "  </tbody>\n",
       "</table>\n",
       "</div>"
      ],
      "text/plain": [
       "   ticket_number    method                      date response_text  \\\n",
       "0   1.556687e+15  transfer 2019-05-02 00:01:28-05:00           NaN   \n",
       "\n",
       "  transaction_status brand transaction_type  number_of_months  \\\n",
       "0           APPROVAL  TOLL             SALE               NaN   \n",
       "\n",
       "                                            metadata  subscription_metadata  \\\n",
       "0  {\"Type\":\"CI\",\"kind\":\"query\",\"Numeric\":\"0321X56...                    NaN   \n",
       "\n",
       "      processor_name recap  security  paper HOUR Type   kind          Numeric  \\\n",
       "0  Highway Processor   NaN       NaN    NaN  NaN   CI  query  0321X5627920554   \n",
       "\n",
       "                      name                id transactionId  \\\n",
       "0  Marina quiñonez de vera  1556686891823050      20091802   \n",
       "\n",
       "                               user transactionResult  \\\n",
       "0  ddaniela.correavbfro.32lowone.cl           created   \n",
       "\n",
       "                              token  id3 office documentType  \n",
       "0  7d67f8fd3b5a43709ff21426eeddc2c2  NaN    NaN          NaN  "
      ]
     },
     "execution_count": 41,
     "metadata": {},
     "output_type": "execute_result"
    }
   ],
   "source": [
    "df.head(1)"
   ]
  },
  {
   "cell_type": "code",
   "execution_count": 42,
   "metadata": {},
   "outputs": [
    {
     "data": {
      "text/plain": [
       "0"
      ]
     },
     "execution_count": 42,
     "metadata": {},
     "output_type": "execute_result"
    }
   ],
   "source": [
    "df['brand'].isnull().sum()"
   ]
  },
  {
   "attachments": {},
   "cell_type": "markdown",
   "metadata": {},
   "source": [
    "No tiene valores nulos"
   ]
  },
  {
   "cell_type": "code",
   "execution_count": 43,
   "metadata": {},
   "outputs": [
    {
     "data": {
      "text/plain": [
       "array(['TOLL', 'DOUBLERING', 'VICTORIAN', 'BANKROAD', 'WANNABE',\n",
       "       'CLINTON'], dtype=object)"
      ]
     },
     "execution_count": 43,
     "metadata": {},
     "output_type": "execute_result"
    }
   ],
   "source": [
    "df['brand'].unique()"
   ]
  },
  {
   "attachments": {},
   "cell_type": "markdown",
   "metadata": {},
   "source": [
    "Marcas a analizar"
   ]
  },
  {
   "cell_type": "code",
   "execution_count": 44,
   "metadata": {},
   "outputs": [
    {
     "name": "stdout",
     "output_type": "stream",
     "text": [
      "5956\n",
      "5956\n"
     ]
    }
   ],
   "source": [
    "aprobada_TOLL = df.loc[df['transaction_status'].str.contains('APPROVAL') & df['brand'].str.contains('TOLL')].shape[0] \n",
    "total_TOLL = df['brand'].str.contains('TOLL').sum()\n",
    "\n",
    "\n",
    "aprobada_DOUBLERING = df.loc[df['transaction_status'].str.contains('APPROVAL') & df['brand'].str.contains('DOUBLERING')].shape[0] \n",
    "total_DOUBLERING = df['brand'].str.contains('DOUBLERING').sum()\n",
    "\n",
    "\n",
    "aprobada_VICTORIAN = df.loc[df['transaction_status'].str.contains('APPROVAL') & df['brand'].str.contains('VICTORIAN')].shape[0] \n",
    "total_VICTORIAN = df['brand'].str.contains('VICTORIAN').sum()\n",
    "\n",
    "aprobada_BANKROAD = df.loc[df['transaction_status'].str.contains('APPROVAL') & df['brand'].str.contains('BANKROAD')].shape[0] \n",
    "total_BANKROAD = df['brand'].str.contains('BANKROAD').sum()\n",
    "\n",
    "aprobada_WANNABE = df.loc[df['transaction_status'].str.contains('APPROVAL') & df['brand'].str.contains('WANNABE')].shape[0] \n",
    "total_WANNABE = df['brand'].str.contains('WANNABE').sum()\n",
    "\n",
    "aprobada_CLINTON = df.loc[df['transaction_status'].str.contains('APPROVAL') & df['brand'].str.contains('CLINTON')].shape[0] \n",
    "total_CLINTON = df['brand'].str.contains('CLINTON').sum()\n",
    "\n",
    "suma_marcas = total_TOLL + total_DOUBLERING + total_VICTORIAN + total_BANKROAD + total_WANNABE + total_CLINTON\n",
    "print(suma_marcas)\n",
    "print(df.shape[0])"
   ]
  },
  {
   "cell_type": "code",
   "execution_count": 45,
   "metadata": {},
   "outputs": [
    {
     "name": "stdout",
     "output_type": "stream",
     "text": [
      "Tasa de aprovacion por TOLL 56.68233713901948\n",
      "Tasa de aprovacion por DOUBLERING 7.975151108126259\n",
      "Tasa de aprovacion por VICTORIAN 11.85359301544661\n",
      "Tasa de aprovacion por BANKROAD 0.05036937541974479\n",
      "Tasa de aprovacion por WANNABE 0.4365345869711216\n",
      "Tasa de aprovacion por CLINTON 0.0\n",
      "76.99798522498321\n"
     ]
    }
   ],
   "source": [
    "tasa_TOLL = (aprobada_TOLL/suma_marcas)*100\n",
    "tasa_DOUBLERING = (aprobada_DOUBLERING/suma_marcas)*100\n",
    "tasa_VICTORIAN = (aprobada_VICTORIAN/suma_marcas)*100\n",
    "tasa_BANKROAD = (aprobada_BANKROAD/suma_marcas)*100\n",
    "tasa_WANNABE = (aprobada_WANNABE/suma_marcas)*100\n",
    "tasa_CLINTON = (aprobada_CLINTON/suma_marcas)*100\n",
    "print(f'Tasa de aprovacion por TOLL {tasa_TOLL}')\n",
    "print(f'Tasa de aprovacion por DOUBLERING {tasa_DOUBLERING}')\n",
    "print(f'Tasa de aprovacion por VICTORIAN {tasa_VICTORIAN}')\n",
    "print(f'Tasa de aprovacion por BANKROAD {tasa_BANKROAD }')\n",
    "print(f'Tasa de aprovacion por WANNABE {tasa_WANNABE }')\n",
    "print(f'Tasa de aprovacion por CLINTON {tasa_CLINTON }')\n",
    "comprob = tasa_TOLL +  tasa_DOUBLERING + tasa_VICTORIAN + tasa_BANKROAD + tasa_WANNABE + tasa_CLINTON\n",
    "print(comprob)\n",
    "\n"
   ]
  },
  {
   "attachments": {},
   "cell_type": "markdown",
   "metadata": {},
   "source": [
    "### Tasa de aprovacion por procesador"
   ]
  },
  {
   "cell_type": "code",
   "execution_count": 46,
   "metadata": {},
   "outputs": [
    {
     "data": {
      "text/html": [
       "<div>\n",
       "<style scoped>\n",
       "    .dataframe tbody tr th:only-of-type {\n",
       "        vertical-align: middle;\n",
       "    }\n",
       "\n",
       "    .dataframe tbody tr th {\n",
       "        vertical-align: top;\n",
       "    }\n",
       "\n",
       "    .dataframe thead th {\n",
       "        text-align: right;\n",
       "    }\n",
       "</style>\n",
       "<table border=\"1\" class=\"dataframe\">\n",
       "  <thead>\n",
       "    <tr style=\"text-align: right;\">\n",
       "      <th></th>\n",
       "      <th>ticket_number</th>\n",
       "      <th>method</th>\n",
       "      <th>date</th>\n",
       "      <th>response_text</th>\n",
       "      <th>transaction_status</th>\n",
       "      <th>brand</th>\n",
       "      <th>transaction_type</th>\n",
       "      <th>number_of_months</th>\n",
       "      <th>metadata</th>\n",
       "      <th>subscription_metadata</th>\n",
       "      <th>processor_name</th>\n",
       "      <th>recap</th>\n",
       "      <th>security</th>\n",
       "      <th>paper</th>\n",
       "      <th>HOUR</th>\n",
       "      <th>Type</th>\n",
       "      <th>kind</th>\n",
       "      <th>Numeric</th>\n",
       "      <th>name</th>\n",
       "      <th>id</th>\n",
       "      <th>transactionId</th>\n",
       "      <th>user</th>\n",
       "      <th>transactionResult</th>\n",
       "      <th>token</th>\n",
       "      <th>id3</th>\n",
       "      <th>office</th>\n",
       "      <th>documentType</th>\n",
       "    </tr>\n",
       "  </thead>\n",
       "  <tbody>\n",
       "    <tr>\n",
       "      <th>0</th>\n",
       "      <td>1.556687e+15</td>\n",
       "      <td>transfer</td>\n",
       "      <td>2019-05-02 00:01:28-05:00</td>\n",
       "      <td>NaN</td>\n",
       "      <td>APPROVAL</td>\n",
       "      <td>TOLL</td>\n",
       "      <td>SALE</td>\n",
       "      <td>NaN</td>\n",
       "      <td>{\"Type\":\"CI\",\"kind\":\"query\",\"Numeric\":\"0321X56...</td>\n",
       "      <td>NaN</td>\n",
       "      <td>Highway Processor</td>\n",
       "      <td>NaN</td>\n",
       "      <td>NaN</td>\n",
       "      <td>NaN</td>\n",
       "      <td>NaN</td>\n",
       "      <td>CI</td>\n",
       "      <td>query</td>\n",
       "      <td>0321X5627920554</td>\n",
       "      <td>Marina quiñonez de vera</td>\n",
       "      <td>1556686891823050</td>\n",
       "      <td>20091802</td>\n",
       "      <td>ddaniela.correavbfro.32lowone.cl</td>\n",
       "      <td>created</td>\n",
       "      <td>7d67f8fd3b5a43709ff21426eeddc2c2</td>\n",
       "      <td>NaN</td>\n",
       "      <td>NaN</td>\n",
       "      <td>NaN</td>\n",
       "    </tr>\n",
       "  </tbody>\n",
       "</table>\n",
       "</div>"
      ],
      "text/plain": [
       "   ticket_number    method                      date response_text  \\\n",
       "0   1.556687e+15  transfer 2019-05-02 00:01:28-05:00           NaN   \n",
       "\n",
       "  transaction_status brand transaction_type  number_of_months  \\\n",
       "0           APPROVAL  TOLL             SALE               NaN   \n",
       "\n",
       "                                            metadata  subscription_metadata  \\\n",
       "0  {\"Type\":\"CI\",\"kind\":\"query\",\"Numeric\":\"0321X56...                    NaN   \n",
       "\n",
       "      processor_name recap  security  paper HOUR Type   kind          Numeric  \\\n",
       "0  Highway Processor   NaN       NaN    NaN  NaN   CI  query  0321X5627920554   \n",
       "\n",
       "                      name                id transactionId  \\\n",
       "0  Marina quiñonez de vera  1556686891823050      20091802   \n",
       "\n",
       "                               user transactionResult  \\\n",
       "0  ddaniela.correavbfro.32lowone.cl           created   \n",
       "\n",
       "                              token  id3 office documentType  \n",
       "0  7d67f8fd3b5a43709ff21426eeddc2c2  NaN    NaN          NaN  "
      ]
     },
     "execution_count": 46,
     "metadata": {},
     "output_type": "execute_result"
    }
   ],
   "source": [
    "df.head(1)"
   ]
  },
  {
   "cell_type": "code",
   "execution_count": 47,
   "metadata": {},
   "outputs": [
    {
     "data": {
      "text/plain": [
       "23"
      ]
     },
     "execution_count": 47,
     "metadata": {},
     "output_type": "execute_result"
    }
   ],
   "source": [
    "df['processor_name'].isnull().sum()"
   ]
  },
  {
   "cell_type": "code",
   "execution_count": 48,
   "metadata": {},
   "outputs": [],
   "source": [
    "df['processor_name'] = df['processor_name'].fillna('Sin registro')"
   ]
  },
  {
   "attachments": {},
   "cell_type": "markdown",
   "metadata": {},
   "source": [
    "Tenemos 23 datos nulos en la columna processor_name "
   ]
  },
  {
   "cell_type": "code",
   "execution_count": 49,
   "metadata": {},
   "outputs": [
    {
     "data": {
      "text/plain": [
       "array(['Highway Processor', 'Rainbow Processor', 'Watermelon Processor',\n",
       "       'Sin registro'], dtype=object)"
      ]
     },
     "execution_count": 49,
     "metadata": {},
     "output_type": "execute_result"
    }
   ],
   "source": [
    "df['processor_name'].unique()"
   ]
  },
  {
   "cell_type": "code",
   "execution_count": 50,
   "metadata": {},
   "outputs": [
    {
     "name": "stdout",
     "output_type": "stream",
     "text": [
      "5956\n"
     ]
    }
   ],
   "source": [
    "aprobada_Highway = df.loc[df['transaction_status'].str.contains('APPROVAL') & df['processor_name'].str.contains('Highway Processor')].shape[0] \n",
    "total_Highway = df['processor_name'].str.contains('Highway Processor').sum()\n",
    "\n",
    "aprobada_Rainbow = df.loc[df['transaction_status'].str.contains('APPROVAL') & df['processor_name'].str.contains('Rainbow Processor')].shape[0] \n",
    "total_Rainbow = df['processor_name'].str.contains('Rainbow Processor').sum()\n",
    "\n",
    "aprobada_Watermelon = df.loc[df['transaction_status'].str.contains('APPROVAL') & df['processor_name'].str.contains('Watermelon Processor')].shape[0] \n",
    "total_Watermelon = df['processor_name'].str.contains('Watermelon Processor').sum()\n",
    "\n",
    "aprobada_sin = df.loc[df['transaction_status'].str.contains('APPROVAL') & df['processor_name'].str.contains('Sin registro')].shape[0] \n",
    "total_sin = df['processor_name'].str.contains('Sin registro').sum()\n",
    "\n",
    "total_process = total_Rainbow + total_Highway + total_Watermelon + total_sin\n",
    "print(total_process)\n"
   ]
  },
  {
   "cell_type": "code",
   "execution_count": 51,
   "metadata": {},
   "outputs": [
    {
     "name": "stdout",
     "output_type": "stream",
     "text": [
      "Tasa de aprovacion por Highway Processor 56.66554734721289\n",
      "Tasa de aprovacion por Rainbow Processor 20.26527871054399\n",
      "Tasa de aprovacion por Watermelon Processor 0.05036937541974479\n",
      "Tasa de aprovacion sin registro  0.0167897918065816\n",
      "76.99798522498322\n"
     ]
    }
   ],
   "source": [
    "tasa_Highway = (aprobada_Highway/total_process)*100\n",
    "tasa_Rainbow = (aprobada_Rainbow/total_process)*100\n",
    "tasa_Watermelon = (aprobada_Watermelon/total_process)*100\n",
    "tasa_sin = (aprobada_sin/total_process)*100\n",
    "\n",
    "print(f'Tasa de aprovacion por Highway Processor {tasa_Highway}')\n",
    "print(f'Tasa de aprovacion por Rainbow Processor {tasa_Rainbow}')\n",
    "print(f'Tasa de aprovacion por Watermelon Processor {tasa_Watermelon}')\n",
    "print(f'Tasa de aprovacion sin registro  {tasa_sin }')\n",
    "comprob_proces = tasa_Highway + tasa_Rainbow + tasa_Watermelon + tasa_sin \n",
    "print(comprob_proces)"
   ]
  },
  {
   "attachments": {},
   "cell_type": "markdown",
   "metadata": {},
   "source": [
    "## Sexta tarea"
   ]
  },
  {
   "attachments": {},
   "cell_type": "markdown",
   "metadata": {},
   "source": [
    "En base al dataset DATA1, construir y presentar una nueva tabla que muestre \n",
    "Tasa de Aceptación por cada hora del día de venta. "
   ]
  },
  {
   "cell_type": "code",
   "execution_count": 52,
   "metadata": {},
   "outputs": [
    {
     "data": {
      "text/html": [
       "<div>\n",
       "<style scoped>\n",
       "    .dataframe tbody tr th:only-of-type {\n",
       "        vertical-align: middle;\n",
       "    }\n",
       "\n",
       "    .dataframe tbody tr th {\n",
       "        vertical-align: top;\n",
       "    }\n",
       "\n",
       "    .dataframe thead th {\n",
       "        text-align: right;\n",
       "    }\n",
       "</style>\n",
       "<table border=\"1\" class=\"dataframe\">\n",
       "  <thead>\n",
       "    <tr style=\"text-align: right;\">\n",
       "      <th></th>\n",
       "      <th>ticket_number</th>\n",
       "      <th>method</th>\n",
       "      <th>date</th>\n",
       "      <th>response_text</th>\n",
       "      <th>transaction_status</th>\n",
       "      <th>brand</th>\n",
       "      <th>transaction_type</th>\n",
       "      <th>number_of_months</th>\n",
       "      <th>metadata</th>\n",
       "      <th>subscription_metadata</th>\n",
       "      <th>processor_name</th>\n",
       "      <th>recap</th>\n",
       "      <th>security</th>\n",
       "      <th>paper</th>\n",
       "      <th>HOUR</th>\n",
       "      <th>Type</th>\n",
       "      <th>kind</th>\n",
       "      <th>Numeric</th>\n",
       "      <th>name</th>\n",
       "      <th>id</th>\n",
       "      <th>transactionId</th>\n",
       "      <th>user</th>\n",
       "      <th>transactionResult</th>\n",
       "      <th>token</th>\n",
       "      <th>id3</th>\n",
       "      <th>office</th>\n",
       "      <th>documentType</th>\n",
       "    </tr>\n",
       "  </thead>\n",
       "  <tbody>\n",
       "    <tr>\n",
       "      <th>0</th>\n",
       "      <td>1.556687e+15</td>\n",
       "      <td>transfer</td>\n",
       "      <td>2019-05-02 00:01:28-05:00</td>\n",
       "      <td>NaN</td>\n",
       "      <td>APPROVAL</td>\n",
       "      <td>TOLL</td>\n",
       "      <td>SALE</td>\n",
       "      <td>NaN</td>\n",
       "      <td>{\"Type\":\"CI\",\"kind\":\"query\",\"Numeric\":\"0321X56...</td>\n",
       "      <td>NaN</td>\n",
       "      <td>Highway Processor</td>\n",
       "      <td>NaN</td>\n",
       "      <td>NaN</td>\n",
       "      <td>NaN</td>\n",
       "      <td>NaN</td>\n",
       "      <td>CI</td>\n",
       "      <td>query</td>\n",
       "      <td>0321X5627920554</td>\n",
       "      <td>Marina quiñonez de vera</td>\n",
       "      <td>1556686891823050</td>\n",
       "      <td>20091802</td>\n",
       "      <td>ddaniela.correavbfro.32lowone.cl</td>\n",
       "      <td>created</td>\n",
       "      <td>7d67f8fd3b5a43709ff21426eeddc2c2</td>\n",
       "      <td>NaN</td>\n",
       "      <td>NaN</td>\n",
       "      <td>NaN</td>\n",
       "    </tr>\n",
       "  </tbody>\n",
       "</table>\n",
       "</div>"
      ],
      "text/plain": [
       "   ticket_number    method                      date response_text  \\\n",
       "0   1.556687e+15  transfer 2019-05-02 00:01:28-05:00           NaN   \n",
       "\n",
       "  transaction_status brand transaction_type  number_of_months  \\\n",
       "0           APPROVAL  TOLL             SALE               NaN   \n",
       "\n",
       "                                            metadata  subscription_metadata  \\\n",
       "0  {\"Type\":\"CI\",\"kind\":\"query\",\"Numeric\":\"0321X56...                    NaN   \n",
       "\n",
       "      processor_name recap  security  paper HOUR Type   kind          Numeric  \\\n",
       "0  Highway Processor   NaN       NaN    NaN  NaN   CI  query  0321X5627920554   \n",
       "\n",
       "                      name                id transactionId  \\\n",
       "0  Marina quiñonez de vera  1556686891823050      20091802   \n",
       "\n",
       "                               user transactionResult  \\\n",
       "0  ddaniela.correavbfro.32lowone.cl           created   \n",
       "\n",
       "                              token  id3 office documentType  \n",
       "0  7d67f8fd3b5a43709ff21426eeddc2c2  NaN    NaN          NaN  "
      ]
     },
     "execution_count": 52,
     "metadata": {},
     "output_type": "execute_result"
    }
   ],
   "source": [
    "df.head(1)"
   ]
  },
  {
   "cell_type": "code",
   "execution_count": 53,
   "metadata": {},
   "outputs": [],
   "source": [
    "hours_list_aceptacion = [f\"{i:02d}:00 - {i:02d}:59\" for i in range(24)]"
   ]
  },
  {
   "cell_type": "code",
   "execution_count": 54,
   "metadata": {},
   "outputs": [
    {
     "data": {
      "text/plain": [
       "Timestamp('2019-05-02 00:01:28-0500', tz='pytz.FixedOffset(-300)')"
      ]
     },
     "execution_count": 54,
     "metadata": {},
     "output_type": "execute_result"
    }
   ],
   "source": [
    "df['date'][0]"
   ]
  },
  {
   "cell_type": "code",
   "execution_count": 55,
   "metadata": {},
   "outputs": [
    {
     "name": "stderr",
     "output_type": "stream",
     "text": [
      "C:\\Users\\sebastian sossa\\AppData\\Local\\Temp\\ipykernel_6124\\3993330663.py:2: SettingWithCopyWarning: \n",
      "A value is trying to be set on a copy of a slice from a DataFrame.\n",
      "Try using .loc[row_indexer,col_indexer] = value instead\n",
      "\n",
      "See the caveats in the documentation: https://pandas.pydata.org/pandas-docs/stable/user_guide/indexing.html#returning-a-view-versus-a-copy\n",
      "  df_approval['HOUR'] = pd.cut(df_approval['date'].dt.hour, bins=range(0,25), labels=hours_list)\n"
     ]
    }
   ],
   "source": [
    "df_approval = df[df['transaction_status'] == 'APPROVAL'] \n",
    "df_approval['HOUR'] = pd.cut(df_approval['date'].dt.hour, bins=range(0,25), labels=hours_list)\n",
    "transactions_by_hour_approval = df_approval.groupby('HOUR').size().reset_index(name='aceptacion')\n"
   ]
  },
  {
   "cell_type": "code",
   "execution_count": 56,
   "metadata": {},
   "outputs": [],
   "source": [
    "transactions_by_hour_approval['total'] = transactions_by_hour['#TRXS']"
   ]
  },
  {
   "cell_type": "code",
   "execution_count": 57,
   "metadata": {},
   "outputs": [
    {
     "data": {
      "text/html": [
       "<div>\n",
       "<style scoped>\n",
       "    .dataframe tbody tr th:only-of-type {\n",
       "        vertical-align: middle;\n",
       "    }\n",
       "\n",
       "    .dataframe tbody tr th {\n",
       "        vertical-align: top;\n",
       "    }\n",
       "\n",
       "    .dataframe thead th {\n",
       "        text-align: right;\n",
       "    }\n",
       "</style>\n",
       "<table border=\"1\" class=\"dataframe\">\n",
       "  <thead>\n",
       "    <tr style=\"text-align: right;\">\n",
       "      <th></th>\n",
       "      <th>HOUR</th>\n",
       "      <th>aceptacion</th>\n",
       "      <th>total</th>\n",
       "      <th>tasa_aprovacion</th>\n",
       "    </tr>\n",
       "  </thead>\n",
       "  <tbody>\n",
       "    <tr>\n",
       "      <th>0</th>\n",
       "      <td>00:00 - 00:59</td>\n",
       "      <td>3</td>\n",
       "      <td>3</td>\n",
       "      <td>100.0</td>\n",
       "    </tr>\n",
       "    <tr>\n",
       "      <th>1</th>\n",
       "      <td>01:00 - 01:59</td>\n",
       "      <td>10</td>\n",
       "      <td>12</td>\n",
       "      <td>83.0</td>\n",
       "    </tr>\n",
       "    <tr>\n",
       "      <th>2</th>\n",
       "      <td>02:00 - 02:59</td>\n",
       "      <td>3</td>\n",
       "      <td>3</td>\n",
       "      <td>100.0</td>\n",
       "    </tr>\n",
       "    <tr>\n",
       "      <th>3</th>\n",
       "      <td>03:00 - 03:59</td>\n",
       "      <td>0</td>\n",
       "      <td>1</td>\n",
       "      <td>0.0</td>\n",
       "    </tr>\n",
       "    <tr>\n",
       "      <th>4</th>\n",
       "      <td>04:00 - 04:59</td>\n",
       "      <td>16</td>\n",
       "      <td>17</td>\n",
       "      <td>94.0</td>\n",
       "    </tr>\n",
       "    <tr>\n",
       "      <th>5</th>\n",
       "      <td>05:00 - 05:59</td>\n",
       "      <td>33</td>\n",
       "      <td>42</td>\n",
       "      <td>79.0</td>\n",
       "    </tr>\n",
       "    <tr>\n",
       "      <th>6</th>\n",
       "      <td>06:00 - 06:59</td>\n",
       "      <td>121</td>\n",
       "      <td>157</td>\n",
       "      <td>77.0</td>\n",
       "    </tr>\n",
       "    <tr>\n",
       "      <th>7</th>\n",
       "      <td>07:00 - 07:59</td>\n",
       "      <td>289</td>\n",
       "      <td>388</td>\n",
       "      <td>74.0</td>\n",
       "    </tr>\n",
       "    <tr>\n",
       "      <th>8</th>\n",
       "      <td>08:00 - 08:59</td>\n",
       "      <td>377</td>\n",
       "      <td>507</td>\n",
       "      <td>74.0</td>\n",
       "    </tr>\n",
       "    <tr>\n",
       "      <th>9</th>\n",
       "      <td>09:00 - 09:59</td>\n",
       "      <td>440</td>\n",
       "      <td>547</td>\n",
       "      <td>80.0</td>\n",
       "    </tr>\n",
       "    <tr>\n",
       "      <th>10</th>\n",
       "      <td>10:00 - 10:59</td>\n",
       "      <td>476</td>\n",
       "      <td>600</td>\n",
       "      <td>79.0</td>\n",
       "    </tr>\n",
       "    <tr>\n",
       "      <th>11</th>\n",
       "      <td>11:00 - 11:59</td>\n",
       "      <td>234</td>\n",
       "      <td>308</td>\n",
       "      <td>76.0</td>\n",
       "    </tr>\n",
       "    <tr>\n",
       "      <th>12</th>\n",
       "      <td>12:00 - 12:59</td>\n",
       "      <td>288</td>\n",
       "      <td>362</td>\n",
       "      <td>80.0</td>\n",
       "    </tr>\n",
       "    <tr>\n",
       "      <th>13</th>\n",
       "      <td>13:00 - 13:59</td>\n",
       "      <td>359</td>\n",
       "      <td>494</td>\n",
       "      <td>73.0</td>\n",
       "    </tr>\n",
       "    <tr>\n",
       "      <th>14</th>\n",
       "      <td>14:00 - 14:59</td>\n",
       "      <td>444</td>\n",
       "      <td>589</td>\n",
       "      <td>75.0</td>\n",
       "    </tr>\n",
       "    <tr>\n",
       "      <th>15</th>\n",
       "      <td>15:00 - 15:59</td>\n",
       "      <td>402</td>\n",
       "      <td>508</td>\n",
       "      <td>79.0</td>\n",
       "    </tr>\n",
       "    <tr>\n",
       "      <th>16</th>\n",
       "      <td>16:00 - 16:59</td>\n",
       "      <td>278</td>\n",
       "      <td>343</td>\n",
       "      <td>81.0</td>\n",
       "    </tr>\n",
       "    <tr>\n",
       "      <th>17</th>\n",
       "      <td>17:00 - 17:59</td>\n",
       "      <td>217</td>\n",
       "      <td>276</td>\n",
       "      <td>79.0</td>\n",
       "    </tr>\n",
       "    <tr>\n",
       "      <th>18</th>\n",
       "      <td>18:00 - 18:59</td>\n",
       "      <td>182</td>\n",
       "      <td>250</td>\n",
       "      <td>73.0</td>\n",
       "    </tr>\n",
       "    <tr>\n",
       "      <th>19</th>\n",
       "      <td>19:00 - 19:59</td>\n",
       "      <td>209</td>\n",
       "      <td>281</td>\n",
       "      <td>74.0</td>\n",
       "    </tr>\n",
       "    <tr>\n",
       "      <th>20</th>\n",
       "      <td>20:00 - 20:59</td>\n",
       "      <td>116</td>\n",
       "      <td>146</td>\n",
       "      <td>79.0</td>\n",
       "    </tr>\n",
       "    <tr>\n",
       "      <th>21</th>\n",
       "      <td>21:00 - 21:59</td>\n",
       "      <td>60</td>\n",
       "      <td>85</td>\n",
       "      <td>71.0</td>\n",
       "    </tr>\n",
       "    <tr>\n",
       "      <th>22</th>\n",
       "      <td>22:00 - 22:59</td>\n",
       "      <td>20</td>\n",
       "      <td>26</td>\n",
       "      <td>77.0</td>\n",
       "    </tr>\n",
       "    <tr>\n",
       "      <th>23</th>\n",
       "      <td>23:00 - 23:59</td>\n",
       "      <td>0</td>\n",
       "      <td>0</td>\n",
       "      <td>NaN</td>\n",
       "    </tr>\n",
       "  </tbody>\n",
       "</table>\n",
       "</div>"
      ],
      "text/plain": [
       "             HOUR  aceptacion  total  tasa_aprovacion\n",
       "0   00:00 - 00:59           3      3            100.0\n",
       "1   01:00 - 01:59          10     12             83.0\n",
       "2   02:00 - 02:59           3      3            100.0\n",
       "3   03:00 - 03:59           0      1              0.0\n",
       "4   04:00 - 04:59          16     17             94.0\n",
       "5   05:00 - 05:59          33     42             79.0\n",
       "6   06:00 - 06:59         121    157             77.0\n",
       "7   07:00 - 07:59         289    388             74.0\n",
       "8   08:00 - 08:59         377    507             74.0\n",
       "9   09:00 - 09:59         440    547             80.0\n",
       "10  10:00 - 10:59         476    600             79.0\n",
       "11  11:00 - 11:59         234    308             76.0\n",
       "12  12:00 - 12:59         288    362             80.0\n",
       "13  13:00 - 13:59         359    494             73.0\n",
       "14  14:00 - 14:59         444    589             75.0\n",
       "15  15:00 - 15:59         402    508             79.0\n",
       "16  16:00 - 16:59         278    343             81.0\n",
       "17  17:00 - 17:59         217    276             79.0\n",
       "18  18:00 - 18:59         182    250             73.0\n",
       "19  19:00 - 19:59         209    281             74.0\n",
       "20  20:00 - 20:59         116    146             79.0\n",
       "21  21:00 - 21:59          60     85             71.0\n",
       "22  22:00 - 22:59          20     26             77.0\n",
       "23  23:00 - 23:59           0      0              NaN"
      ]
     },
     "execution_count": 57,
     "metadata": {},
     "output_type": "execute_result"
    }
   ],
   "source": [
    "transactions_by_hour_approval['tasa_aprovacion'] = round((transactions_by_hour_approval['aceptacion'] / transactions_by_hour_approval['total']) * 100)\n",
    "transactions_by_hour_approval"
   ]
  },
  {
   "attachments": {},
   "cell_type": "markdown",
   "metadata": {},
   "source": [
    "## septima tarea"
   ]
  },
  {
   "attachments": {},
   "cell_type": "markdown",
   "metadata": {},
   "source": [
    "En base a los datos generados en la nueva tabla Tasa de Aceptación por Hora, \n",
    "generar y presentar resumen de estadística descriptiva. ¿Qué conclusiones \n",
    "podemos obtener de la tasa de aceptación en el transcurso de un día de venta? "
   ]
  },
  {
   "cell_type": "code",
   "execution_count": 58,
   "metadata": {},
   "outputs": [
    {
     "data": {
      "text/html": [
       "<div>\n",
       "<style scoped>\n",
       "    .dataframe tbody tr th:only-of-type {\n",
       "        vertical-align: middle;\n",
       "    }\n",
       "\n",
       "    .dataframe tbody tr th {\n",
       "        vertical-align: top;\n",
       "    }\n",
       "\n",
       "    .dataframe thead th {\n",
       "        text-align: right;\n",
       "    }\n",
       "</style>\n",
       "<table border=\"1\" class=\"dataframe\">\n",
       "  <thead>\n",
       "    <tr style=\"text-align: right;\">\n",
       "      <th></th>\n",
       "      <th>HOUR</th>\n",
       "      <th>aceptacion</th>\n",
       "      <th>total</th>\n",
       "      <th>tasa_aprovacion</th>\n",
       "    </tr>\n",
       "  </thead>\n",
       "  <tbody>\n",
       "    <tr>\n",
       "      <th>0</th>\n",
       "      <td>00:00 - 00:59</td>\n",
       "      <td>3</td>\n",
       "      <td>3</td>\n",
       "      <td>100.0</td>\n",
       "    </tr>\n",
       "    <tr>\n",
       "      <th>1</th>\n",
       "      <td>01:00 - 01:59</td>\n",
       "      <td>10</td>\n",
       "      <td>12</td>\n",
       "      <td>83.0</td>\n",
       "    </tr>\n",
       "    <tr>\n",
       "      <th>2</th>\n",
       "      <td>02:00 - 02:59</td>\n",
       "      <td>3</td>\n",
       "      <td>3</td>\n",
       "      <td>100.0</td>\n",
       "    </tr>\n",
       "    <tr>\n",
       "      <th>3</th>\n",
       "      <td>03:00 - 03:59</td>\n",
       "      <td>0</td>\n",
       "      <td>1</td>\n",
       "      <td>0.0</td>\n",
       "    </tr>\n",
       "    <tr>\n",
       "      <th>4</th>\n",
       "      <td>04:00 - 04:59</td>\n",
       "      <td>16</td>\n",
       "      <td>17</td>\n",
       "      <td>94.0</td>\n",
       "    </tr>\n",
       "    <tr>\n",
       "      <th>5</th>\n",
       "      <td>05:00 - 05:59</td>\n",
       "      <td>33</td>\n",
       "      <td>42</td>\n",
       "      <td>79.0</td>\n",
       "    </tr>\n",
       "    <tr>\n",
       "      <th>6</th>\n",
       "      <td>06:00 - 06:59</td>\n",
       "      <td>121</td>\n",
       "      <td>157</td>\n",
       "      <td>77.0</td>\n",
       "    </tr>\n",
       "    <tr>\n",
       "      <th>7</th>\n",
       "      <td>07:00 - 07:59</td>\n",
       "      <td>289</td>\n",
       "      <td>388</td>\n",
       "      <td>74.0</td>\n",
       "    </tr>\n",
       "    <tr>\n",
       "      <th>8</th>\n",
       "      <td>08:00 - 08:59</td>\n",
       "      <td>377</td>\n",
       "      <td>507</td>\n",
       "      <td>74.0</td>\n",
       "    </tr>\n",
       "    <tr>\n",
       "      <th>9</th>\n",
       "      <td>09:00 - 09:59</td>\n",
       "      <td>440</td>\n",
       "      <td>547</td>\n",
       "      <td>80.0</td>\n",
       "    </tr>\n",
       "    <tr>\n",
       "      <th>10</th>\n",
       "      <td>10:00 - 10:59</td>\n",
       "      <td>476</td>\n",
       "      <td>600</td>\n",
       "      <td>79.0</td>\n",
       "    </tr>\n",
       "    <tr>\n",
       "      <th>11</th>\n",
       "      <td>11:00 - 11:59</td>\n",
       "      <td>234</td>\n",
       "      <td>308</td>\n",
       "      <td>76.0</td>\n",
       "    </tr>\n",
       "    <tr>\n",
       "      <th>12</th>\n",
       "      <td>12:00 - 12:59</td>\n",
       "      <td>288</td>\n",
       "      <td>362</td>\n",
       "      <td>80.0</td>\n",
       "    </tr>\n",
       "    <tr>\n",
       "      <th>13</th>\n",
       "      <td>13:00 - 13:59</td>\n",
       "      <td>359</td>\n",
       "      <td>494</td>\n",
       "      <td>73.0</td>\n",
       "    </tr>\n",
       "    <tr>\n",
       "      <th>14</th>\n",
       "      <td>14:00 - 14:59</td>\n",
       "      <td>444</td>\n",
       "      <td>589</td>\n",
       "      <td>75.0</td>\n",
       "    </tr>\n",
       "    <tr>\n",
       "      <th>15</th>\n",
       "      <td>15:00 - 15:59</td>\n",
       "      <td>402</td>\n",
       "      <td>508</td>\n",
       "      <td>79.0</td>\n",
       "    </tr>\n",
       "    <tr>\n",
       "      <th>16</th>\n",
       "      <td>16:00 - 16:59</td>\n",
       "      <td>278</td>\n",
       "      <td>343</td>\n",
       "      <td>81.0</td>\n",
       "    </tr>\n",
       "    <tr>\n",
       "      <th>17</th>\n",
       "      <td>17:00 - 17:59</td>\n",
       "      <td>217</td>\n",
       "      <td>276</td>\n",
       "      <td>79.0</td>\n",
       "    </tr>\n",
       "    <tr>\n",
       "      <th>18</th>\n",
       "      <td>18:00 - 18:59</td>\n",
       "      <td>182</td>\n",
       "      <td>250</td>\n",
       "      <td>73.0</td>\n",
       "    </tr>\n",
       "    <tr>\n",
       "      <th>19</th>\n",
       "      <td>19:00 - 19:59</td>\n",
       "      <td>209</td>\n",
       "      <td>281</td>\n",
       "      <td>74.0</td>\n",
       "    </tr>\n",
       "    <tr>\n",
       "      <th>20</th>\n",
       "      <td>20:00 - 20:59</td>\n",
       "      <td>116</td>\n",
       "      <td>146</td>\n",
       "      <td>79.0</td>\n",
       "    </tr>\n",
       "    <tr>\n",
       "      <th>21</th>\n",
       "      <td>21:00 - 21:59</td>\n",
       "      <td>60</td>\n",
       "      <td>85</td>\n",
       "      <td>71.0</td>\n",
       "    </tr>\n",
       "    <tr>\n",
       "      <th>22</th>\n",
       "      <td>22:00 - 22:59</td>\n",
       "      <td>20</td>\n",
       "      <td>26</td>\n",
       "      <td>77.0</td>\n",
       "    </tr>\n",
       "    <tr>\n",
       "      <th>23</th>\n",
       "      <td>23:00 - 23:59</td>\n",
       "      <td>0</td>\n",
       "      <td>0</td>\n",
       "      <td>NaN</td>\n",
       "    </tr>\n",
       "  </tbody>\n",
       "</table>\n",
       "</div>"
      ],
      "text/plain": [
       "             HOUR  aceptacion  total  tasa_aprovacion\n",
       "0   00:00 - 00:59           3      3            100.0\n",
       "1   01:00 - 01:59          10     12             83.0\n",
       "2   02:00 - 02:59           3      3            100.0\n",
       "3   03:00 - 03:59           0      1              0.0\n",
       "4   04:00 - 04:59          16     17             94.0\n",
       "5   05:00 - 05:59          33     42             79.0\n",
       "6   06:00 - 06:59         121    157             77.0\n",
       "7   07:00 - 07:59         289    388             74.0\n",
       "8   08:00 - 08:59         377    507             74.0\n",
       "9   09:00 - 09:59         440    547             80.0\n",
       "10  10:00 - 10:59         476    600             79.0\n",
       "11  11:00 - 11:59         234    308             76.0\n",
       "12  12:00 - 12:59         288    362             80.0\n",
       "13  13:00 - 13:59         359    494             73.0\n",
       "14  14:00 - 14:59         444    589             75.0\n",
       "15  15:00 - 15:59         402    508             79.0\n",
       "16  16:00 - 16:59         278    343             81.0\n",
       "17  17:00 - 17:59         217    276             79.0\n",
       "18  18:00 - 18:59         182    250             73.0\n",
       "19  19:00 - 19:59         209    281             74.0\n",
       "20  20:00 - 20:59         116    146             79.0\n",
       "21  21:00 - 21:59          60     85             71.0\n",
       "22  22:00 - 22:59          20     26             77.0\n",
       "23  23:00 - 23:59           0      0              NaN"
      ]
     },
     "execution_count": 58,
     "metadata": {},
     "output_type": "execute_result"
    }
   ],
   "source": [
    "transactions_by_hour_approval"
   ]
  },
  {
   "cell_type": "code",
   "execution_count": 59,
   "metadata": {},
   "outputs": [
    {
     "data": {
      "text/html": [
       "<div>\n",
       "<style scoped>\n",
       "    .dataframe tbody tr th:only-of-type {\n",
       "        vertical-align: middle;\n",
       "    }\n",
       "\n",
       "    .dataframe tbody tr th {\n",
       "        vertical-align: top;\n",
       "    }\n",
       "\n",
       "    .dataframe thead th {\n",
       "        text-align: right;\n",
       "    }\n",
       "</style>\n",
       "<table border=\"1\" class=\"dataframe\">\n",
       "  <thead>\n",
       "    <tr style=\"text-align: right;\">\n",
       "      <th></th>\n",
       "      <th>aceptacion</th>\n",
       "      <th>total</th>\n",
       "      <th>tasa_aprovacion</th>\n",
       "    </tr>\n",
       "  </thead>\n",
       "  <tbody>\n",
       "    <tr>\n",
       "      <th>count</th>\n",
       "      <td>24.000000</td>\n",
       "      <td>24.000000</td>\n",
       "      <td>23.000000</td>\n",
       "    </tr>\n",
       "    <tr>\n",
       "      <th>mean</th>\n",
       "      <td>190.708333</td>\n",
       "      <td>247.708333</td>\n",
       "      <td>76.391304</td>\n",
       "    </tr>\n",
       "    <tr>\n",
       "      <th>std</th>\n",
       "      <td>165.898471</td>\n",
       "      <td>214.726617</td>\n",
       "      <td>18.411309</td>\n",
       "    </tr>\n",
       "    <tr>\n",
       "      <th>min</th>\n",
       "      <td>0.000000</td>\n",
       "      <td>0.000000</td>\n",
       "      <td>0.000000</td>\n",
       "    </tr>\n",
       "    <tr>\n",
       "      <th>25%</th>\n",
       "      <td>19.000000</td>\n",
       "      <td>23.750000</td>\n",
       "      <td>74.000000</td>\n",
       "    </tr>\n",
       "    <tr>\n",
       "      <th>50%</th>\n",
       "      <td>195.500000</td>\n",
       "      <td>263.000000</td>\n",
       "      <td>79.000000</td>\n",
       "    </tr>\n",
       "    <tr>\n",
       "      <th>75%</th>\n",
       "      <td>306.500000</td>\n",
       "      <td>414.500000</td>\n",
       "      <td>80.000000</td>\n",
       "    </tr>\n",
       "    <tr>\n",
       "      <th>max</th>\n",
       "      <td>476.000000</td>\n",
       "      <td>600.000000</td>\n",
       "      <td>100.000000</td>\n",
       "    </tr>\n",
       "  </tbody>\n",
       "</table>\n",
       "</div>"
      ],
      "text/plain": [
       "       aceptacion       total  tasa_aprovacion\n",
       "count   24.000000   24.000000        23.000000\n",
       "mean   190.708333  247.708333        76.391304\n",
       "std    165.898471  214.726617        18.411309\n",
       "min      0.000000    0.000000         0.000000\n",
       "25%     19.000000   23.750000        74.000000\n",
       "50%    195.500000  263.000000        79.000000\n",
       "75%    306.500000  414.500000        80.000000\n",
       "max    476.000000  600.000000       100.000000"
      ]
     },
     "execution_count": 59,
     "metadata": {},
     "output_type": "execute_result"
    }
   ],
   "source": [
    "transactions_by_hour_approval.describe()"
   ]
  },
  {
   "attachments": {},
   "cell_type": "markdown",
   "metadata": {},
   "source": [
    "Tenemos que la tasa de aprobacion media es de 76.36% duarnte todo el dia. La tasa de aprobacion maxima es de 100% y la tasa de aprobacion minima es de 0%"
   ]
  },
  {
   "cell_type": "code",
   "execution_count": 60,
   "metadata": {},
   "outputs": [
    {
     "data": {
      "image/png": "[encoded data removed]",
      "text/plain": [
       "<Figure size 432x288 with 1 Axes>"
      ]
     },
     "metadata": {
      "needs_background": "light"
     },
     "output_type": "display_data"
    }
   ],
   "source": [
    "label_hour_approval = [ i for i in range(0,24)]\n",
    "\n",
    "plt.bar(label_hour_approval, transactions_by_hour_approval['tasa_aprovacion'])\n",
    "\n",
    "# set labels and title\n",
    "plt.xlabel('Hours')\n",
    "plt.ylabel('Tasa de aprovacion')\n",
    "plt.title('Tasa de aprovacion por hora')\n",
    "\n",
    "# show the plot\n",
    "plt.show()"
   ]
  },
  {
   "cell_type": "code",
   "execution_count": 61,
   "metadata": {},
   "outputs": [
    {
     "name": "stdout",
     "output_type": "stream",
     "text": [
      "Media de tasa de aprovacion 79.0\n"
     ]
    }
   ],
   "source": [
    "median_approval_rate = transactions_by_hour_approval['tasa_aprovacion'].median()\n",
    "print('Media de tasa de aprovacion', median_approval_rate)\n"
   ]
  },
  {
   "cell_type": "code",
   "execution_count": 62,
   "metadata": {},
   "outputs": [
    {
     "data": {
      "image/png": "[encoded data removed]",
      "text/plain": [
       "<Figure size 432x288 with 1 Axes>"
      ]
     },
     "metadata": {
      "needs_background": "light"
     },
     "output_type": "display_data"
    }
   ],
   "source": [
    "\n",
    "fig, ax = plt.subplots()\n",
    "\n",
    "ax.boxplot(transactions_by_hour_approval['tasa_aprovacion'].dropna())\n",
    "\n",
    "ax.set_xlabel('Tasa de aprovacion')\n",
    "ax.set_title('Box plot de Tasa de aprovacion por hora')\n",
    "\n",
    "plt.show()"
   ]
  },
  {
   "attachments": {},
   "cell_type": "markdown",
   "metadata": {},
   "source": [
    "En el box plot podemos evidenciar la dispercion de los datos, la tabla presenta algunos outliers, pero podriamos decir que entre menos transacciones, mas va a variar la tasa de aprobacion, como es el caso de las horas 00:00 , 02:00, 03:00, 04:00. Para tener una conclusion sobre la tasa de aprobacion por horas, de una forma mas acertada, debemos reunir mas datos en horas que no se realizan muchas transacciones."
   ]
  },
  {
   "attachments": {},
   "cell_type": "markdown",
   "metadata": {},
   "source": [
    "## Octava tarea"
   ]
  },
  {
   "attachments": {},
   "cell_type": "markdown",
   "metadata": {},
   "source": [
    "¿Existe una CORRELACION entre el Número de Ventas Efectivas por Hora y la Tasa de \n",
    "Aceptación por Hora? Justificar. "
   ]
  },
  {
   "attachments": {},
   "cell_type": "markdown",
   "metadata": {},
   "source": [
    "### tasa de aceptacion por hora "
   ]
  },
  {
   "cell_type": "code",
   "execution_count": 63,
   "metadata": {},
   "outputs": [
    {
     "data": {
      "text/html": [
       "<div>\n",
       "<style scoped>\n",
       "    .dataframe tbody tr th:only-of-type {\n",
       "        vertical-align: middle;\n",
       "    }\n",
       "\n",
       "    .dataframe tbody tr th {\n",
       "        vertical-align: top;\n",
       "    }\n",
       "\n",
       "    .dataframe thead th {\n",
       "        text-align: right;\n",
       "    }\n",
       "</style>\n",
       "<table border=\"1\" class=\"dataframe\">\n",
       "  <thead>\n",
       "    <tr style=\"text-align: right;\">\n",
       "      <th></th>\n",
       "      <th>HOUR</th>\n",
       "      <th>aceptacion</th>\n",
       "      <th>total</th>\n",
       "      <th>tasa_aprovacion</th>\n",
       "    </tr>\n",
       "  </thead>\n",
       "  <tbody>\n",
       "    <tr>\n",
       "      <th>0</th>\n",
       "      <td>00:00 - 00:59</td>\n",
       "      <td>3</td>\n",
       "      <td>3</td>\n",
       "      <td>100.0</td>\n",
       "    </tr>\n",
       "    <tr>\n",
       "      <th>1</th>\n",
       "      <td>01:00 - 01:59</td>\n",
       "      <td>10</td>\n",
       "      <td>12</td>\n",
       "      <td>83.0</td>\n",
       "    </tr>\n",
       "    <tr>\n",
       "      <th>2</th>\n",
       "      <td>02:00 - 02:59</td>\n",
       "      <td>3</td>\n",
       "      <td>3</td>\n",
       "      <td>100.0</td>\n",
       "    </tr>\n",
       "    <tr>\n",
       "      <th>3</th>\n",
       "      <td>03:00 - 03:59</td>\n",
       "      <td>0</td>\n",
       "      <td>1</td>\n",
       "      <td>0.0</td>\n",
       "    </tr>\n",
       "    <tr>\n",
       "      <th>4</th>\n",
       "      <td>04:00 - 04:59</td>\n",
       "      <td>16</td>\n",
       "      <td>17</td>\n",
       "      <td>94.0</td>\n",
       "    </tr>\n",
       "    <tr>\n",
       "      <th>5</th>\n",
       "      <td>05:00 - 05:59</td>\n",
       "      <td>33</td>\n",
       "      <td>42</td>\n",
       "      <td>79.0</td>\n",
       "    </tr>\n",
       "    <tr>\n",
       "      <th>6</th>\n",
       "      <td>06:00 - 06:59</td>\n",
       "      <td>121</td>\n",
       "      <td>157</td>\n",
       "      <td>77.0</td>\n",
       "    </tr>\n",
       "    <tr>\n",
       "      <th>7</th>\n",
       "      <td>07:00 - 07:59</td>\n",
       "      <td>289</td>\n",
       "      <td>388</td>\n",
       "      <td>74.0</td>\n",
       "    </tr>\n",
       "    <tr>\n",
       "      <th>8</th>\n",
       "      <td>08:00 - 08:59</td>\n",
       "      <td>377</td>\n",
       "      <td>507</td>\n",
       "      <td>74.0</td>\n",
       "    </tr>\n",
       "    <tr>\n",
       "      <th>9</th>\n",
       "      <td>09:00 - 09:59</td>\n",
       "      <td>440</td>\n",
       "      <td>547</td>\n",
       "      <td>80.0</td>\n",
       "    </tr>\n",
       "    <tr>\n",
       "      <th>10</th>\n",
       "      <td>10:00 - 10:59</td>\n",
       "      <td>476</td>\n",
       "      <td>600</td>\n",
       "      <td>79.0</td>\n",
       "    </tr>\n",
       "    <tr>\n",
       "      <th>11</th>\n",
       "      <td>11:00 - 11:59</td>\n",
       "      <td>234</td>\n",
       "      <td>308</td>\n",
       "      <td>76.0</td>\n",
       "    </tr>\n",
       "    <tr>\n",
       "      <th>12</th>\n",
       "      <td>12:00 - 12:59</td>\n",
       "      <td>288</td>\n",
       "      <td>362</td>\n",
       "      <td>80.0</td>\n",
       "    </tr>\n",
       "    <tr>\n",
       "      <th>13</th>\n",
       "      <td>13:00 - 13:59</td>\n",
       "      <td>359</td>\n",
       "      <td>494</td>\n",
       "      <td>73.0</td>\n",
       "    </tr>\n",
       "    <tr>\n",
       "      <th>14</th>\n",
       "      <td>14:00 - 14:59</td>\n",
       "      <td>444</td>\n",
       "      <td>589</td>\n",
       "      <td>75.0</td>\n",
       "    </tr>\n",
       "    <tr>\n",
       "      <th>15</th>\n",
       "      <td>15:00 - 15:59</td>\n",
       "      <td>402</td>\n",
       "      <td>508</td>\n",
       "      <td>79.0</td>\n",
       "    </tr>\n",
       "    <tr>\n",
       "      <th>16</th>\n",
       "      <td>16:00 - 16:59</td>\n",
       "      <td>278</td>\n",
       "      <td>343</td>\n",
       "      <td>81.0</td>\n",
       "    </tr>\n",
       "    <tr>\n",
       "      <th>17</th>\n",
       "      <td>17:00 - 17:59</td>\n",
       "      <td>217</td>\n",
       "      <td>276</td>\n",
       "      <td>79.0</td>\n",
       "    </tr>\n",
       "    <tr>\n",
       "      <th>18</th>\n",
       "      <td>18:00 - 18:59</td>\n",
       "      <td>182</td>\n",
       "      <td>250</td>\n",
       "      <td>73.0</td>\n",
       "    </tr>\n",
       "    <tr>\n",
       "      <th>19</th>\n",
       "      <td>19:00 - 19:59</td>\n",
       "      <td>209</td>\n",
       "      <td>281</td>\n",
       "      <td>74.0</td>\n",
       "    </tr>\n",
       "    <tr>\n",
       "      <th>20</th>\n",
       "      <td>20:00 - 20:59</td>\n",
       "      <td>116</td>\n",
       "      <td>146</td>\n",
       "      <td>79.0</td>\n",
       "    </tr>\n",
       "    <tr>\n",
       "      <th>21</th>\n",
       "      <td>21:00 - 21:59</td>\n",
       "      <td>60</td>\n",
       "      <td>85</td>\n",
       "      <td>71.0</td>\n",
       "    </tr>\n",
       "    <tr>\n",
       "      <th>22</th>\n",
       "      <td>22:00 - 22:59</td>\n",
       "      <td>20</td>\n",
       "      <td>26</td>\n",
       "      <td>77.0</td>\n",
       "    </tr>\n",
       "    <tr>\n",
       "      <th>23</th>\n",
       "      <td>23:00 - 23:59</td>\n",
       "      <td>0</td>\n",
       "      <td>0</td>\n",
       "      <td>NaN</td>\n",
       "    </tr>\n",
       "  </tbody>\n",
       "</table>\n",
       "</div>"
      ],
      "text/plain": [
       "             HOUR  aceptacion  total  tasa_aprovacion\n",
       "0   00:00 - 00:59           3      3            100.0\n",
       "1   01:00 - 01:59          10     12             83.0\n",
       "2   02:00 - 02:59           3      3            100.0\n",
       "3   03:00 - 03:59           0      1              0.0\n",
       "4   04:00 - 04:59          16     17             94.0\n",
       "5   05:00 - 05:59          33     42             79.0\n",
       "6   06:00 - 06:59         121    157             77.0\n",
       "7   07:00 - 07:59         289    388             74.0\n",
       "8   08:00 - 08:59         377    507             74.0\n",
       "9   09:00 - 09:59         440    547             80.0\n",
       "10  10:00 - 10:59         476    600             79.0\n",
       "11  11:00 - 11:59         234    308             76.0\n",
       "12  12:00 - 12:59         288    362             80.0\n",
       "13  13:00 - 13:59         359    494             73.0\n",
       "14  14:00 - 14:59         444    589             75.0\n",
       "15  15:00 - 15:59         402    508             79.0\n",
       "16  16:00 - 16:59         278    343             81.0\n",
       "17  17:00 - 17:59         217    276             79.0\n",
       "18  18:00 - 18:59         182    250             73.0\n",
       "19  19:00 - 19:59         209    281             74.0\n",
       "20  20:00 - 20:59         116    146             79.0\n",
       "21  21:00 - 21:59          60     85             71.0\n",
       "22  22:00 - 22:59          20     26             77.0\n",
       "23  23:00 - 23:59           0      0              NaN"
      ]
     },
     "execution_count": 63,
     "metadata": {},
     "output_type": "execute_result"
    }
   ],
   "source": [
    "transactions_by_hour_approval"
   ]
  },
  {
   "cell_type": "code",
   "execution_count": 64,
   "metadata": {},
   "outputs": [
    {
     "name": "stdout",
     "output_type": "stream",
     "text": [
      "Correlacion entre numero de ventas efectivas por hora, por tasa de aceptacion por hora: 0.03229229608925443\n"
     ]
    }
   ],
   "source": [
    "correlation = transactions_by_hour_approval['total'].corr(transactions_by_hour_approval['tasa_aprovacion'])\n",
    "# print the correlation coefficient\n",
    "print(f'Correlacion entre numero de ventas efectivas por hora, por tasa de aceptacion por hora: {correlation}')"
   ]
  },
  {
   "attachments": {},
   "cell_type": "markdown",
   "metadata": {},
   "source": [
    "Calculamos la correlacion de pearson entre las dos variables presentadas y nos da un valor de 0.03, lo que significa que hay una correlacion positiva muy minima. El valor que nos arroja la correlacion de pearson es muy bajo por lo que se podria decier que la correlacion es insignificante, casi nula"
   ]
  },
  {
   "cell_type": "code",
   "execution_count": 65,
   "metadata": {},
   "outputs": [
    {
     "data": {
      "image/png": "[encoded data removed]",
      "text/plain": [
       "<Figure size 432x288 with 1 Axes>"
      ]
     },
     "metadata": {
      "needs_background": "light"
     },
     "output_type": "display_data"
    }
   ],
   "source": [
    "plt.scatter(transactions_by_hour_approval['total'], transactions_by_hour_approval['tasa_aprovacion'])\n",
    "\n",
    "# add labels and title\n",
    "plt.xlabel('Ventas efectivas por hora')\n",
    "plt.ylabel('Tasa de aprovacion por hora')\n",
    "plt.title('Scatter Plot')\n",
    "\n",
    "# display the plot\n",
    "plt.show()"
   ]
  },
  {
   "attachments": {},
   "cell_type": "markdown",
   "metadata": {},
   "source": [
    "## Novena tarea"
   ]
  },
  {
   "attachments": {},
   "cell_type": "markdown",
   "metadata": {},
   "source": [
    "Determinar la tasa de aceptación del día en específico por el atributo “office”. ¿Qué se \n",
    "puede concluir con respecto a esta relación? ¿Qué valor del atributo “office” es el que \n",
    "presenta mejor tasa de aceptación? PISTA: Usar la tabla construida en la tarea 3 "
   ]
  },
  {
   "cell_type": "code",
   "execution_count": 66,
   "metadata": {},
   "outputs": [
    {
     "data": {
      "text/html": [
       "<div>\n",
       "<style scoped>\n",
       "    .dataframe tbody tr th:only-of-type {\n",
       "        vertical-align: middle;\n",
       "    }\n",
       "\n",
       "    .dataframe tbody tr th {\n",
       "        vertical-align: top;\n",
       "    }\n",
       "\n",
       "    .dataframe thead th {\n",
       "        text-align: right;\n",
       "    }\n",
       "</style>\n",
       "<table border=\"1\" class=\"dataframe\">\n",
       "  <thead>\n",
       "    <tr style=\"text-align: right;\">\n",
       "      <th></th>\n",
       "      <th>ticket_number</th>\n",
       "      <th>method</th>\n",
       "      <th>date</th>\n",
       "      <th>response_text</th>\n",
       "      <th>transaction_status</th>\n",
       "      <th>brand</th>\n",
       "      <th>transaction_type</th>\n",
       "      <th>number_of_months</th>\n",
       "      <th>metadata</th>\n",
       "      <th>subscription_metadata</th>\n",
       "      <th>processor_name</th>\n",
       "      <th>recap</th>\n",
       "      <th>security</th>\n",
       "      <th>paper</th>\n",
       "      <th>HOUR</th>\n",
       "      <th>Type</th>\n",
       "      <th>kind</th>\n",
       "      <th>Numeric</th>\n",
       "      <th>name</th>\n",
       "      <th>id</th>\n",
       "      <th>transactionId</th>\n",
       "      <th>user</th>\n",
       "      <th>transactionResult</th>\n",
       "      <th>token</th>\n",
       "      <th>id3</th>\n",
       "      <th>office</th>\n",
       "      <th>documentType</th>\n",
       "    </tr>\n",
       "  </thead>\n",
       "  <tbody>\n",
       "    <tr>\n",
       "      <th>0</th>\n",
       "      <td>1.556687e+15</td>\n",
       "      <td>transfer</td>\n",
       "      <td>2019-05-02 00:01:28-05:00</td>\n",
       "      <td>NaN</td>\n",
       "      <td>APPROVAL</td>\n",
       "      <td>TOLL</td>\n",
       "      <td>SALE</td>\n",
       "      <td>NaN</td>\n",
       "      <td>{\"Type\":\"CI\",\"kind\":\"query\",\"Numeric\":\"0321X56...</td>\n",
       "      <td>NaN</td>\n",
       "      <td>Highway Processor</td>\n",
       "      <td>NaN</td>\n",
       "      <td>NaN</td>\n",
       "      <td>NaN</td>\n",
       "      <td>NaN</td>\n",
       "      <td>CI</td>\n",
       "      <td>query</td>\n",
       "      <td>0321X5627920554</td>\n",
       "      <td>Marina quiñonez de vera</td>\n",
       "      <td>1556686891823050</td>\n",
       "      <td>20091802</td>\n",
       "      <td>ddaniela.correavbfro.32lowone.cl</td>\n",
       "      <td>created</td>\n",
       "      <td>7d67f8fd3b5a43709ff21426eeddc2c2</td>\n",
       "      <td>NaN</td>\n",
       "      <td>NaN</td>\n",
       "      <td>NaN</td>\n",
       "    </tr>\n",
       "  </tbody>\n",
       "</table>\n",
       "</div>"
      ],
      "text/plain": [
       "   ticket_number    method                      date response_text  \\\n",
       "0   1.556687e+15  transfer 2019-05-02 00:01:28-05:00           NaN   \n",
       "\n",
       "  transaction_status brand transaction_type  number_of_months  \\\n",
       "0           APPROVAL  TOLL             SALE               NaN   \n",
       "\n",
       "                                            metadata  subscription_metadata  \\\n",
       "0  {\"Type\":\"CI\",\"kind\":\"query\",\"Numeric\":\"0321X56...                    NaN   \n",
       "\n",
       "      processor_name recap  security  paper HOUR Type   kind          Numeric  \\\n",
       "0  Highway Processor   NaN       NaN    NaN  NaN   CI  query  0321X5627920554   \n",
       "\n",
       "                      name                id transactionId  \\\n",
       "0  Marina quiñonez de vera  1556686891823050      20091802   \n",
       "\n",
       "                               user transactionResult  \\\n",
       "0  ddaniela.correavbfro.32lowone.cl           created   \n",
       "\n",
       "                              token  id3 office documentType  \n",
       "0  7d67f8fd3b5a43709ff21426eeddc2c2  NaN    NaN          NaN  "
      ]
     },
     "execution_count": 66,
     "metadata": {},
     "output_type": "execute_result"
    }
   ],
   "source": [
    "df.head(1)"
   ]
  },
  {
   "cell_type": "code",
   "execution_count": 67,
   "metadata": {},
   "outputs": [
    {
     "data": {
      "text/plain": [
       "array([nan, '029', '300', '176', '060', '370', '156', '359', '01N', '051',\n",
       "       '50S', '50N', '041', '307', '350', '001', '045', '040', '192',\n",
       "       '005', '103', '50C', '080', '078', '152', '150', '280', '290',\n",
       "       '260', '368', '470', '210', '420', '162', '240', '324', '140',\n",
       "       '115', '206', '303', '070', '190', '017', '120', '384', '132',\n",
       "       '442', '166', '314', '378', '230', '252', '028', '088', '196',\n",
       "       '340', '366', '440', '318', '226', '372', '170', '157', '200',\n",
       "       '294', '202', '212', '020', '094', '380', '019', '234', '118',\n",
       "       '072', '225', '232', '270', '346', '090', '357', '026', '025',\n",
       "       '095', '375', '315', '093', '130', '450', '011', '373', '154',\n",
       "       '362', '083', '076', '012', '143', '172', '014', '100', '144',\n",
       "       '037', '248', '024', '064', '015', '236', '321', '312', '160',\n",
       "       '355', '112', '282', '074', '360', '214', '306', '062', '032',\n",
       "       '068', '244', '148', '018', '410', '122', '293', '004', '010',\n",
       "       '180', '319', '284', '250', '034', '400', '272', '342', '326',\n",
       "       '296', '167', '228', '352', '320', '142', '007', '222', '425',\n",
       "       '134', '261', '002', '114', '302', '146', '023', '079', '027',\n",
       "       '242', '480', '106', '033'], dtype=object)"
      ]
     },
     "execution_count": 67,
     "metadata": {},
     "output_type": "execute_result"
    }
   ],
   "source": [
    "df['office'].unique()"
   ]
  },
  {
   "cell_type": "code",
   "execution_count": 68,
   "metadata": {},
   "outputs": [
    {
     "data": {
      "text/plain": [
       "299"
      ]
     },
     "execution_count": 68,
     "metadata": {},
     "output_type": "execute_result"
    }
   ],
   "source": [
    "df['office'].isnull().sum()"
   ]
  },
  {
   "cell_type": "code",
   "execution_count": 69,
   "metadata": {},
   "outputs": [],
   "source": [
    "df['office'] = df['office'].fillna('sin_registro')"
   ]
  },
  {
   "cell_type": "code",
   "execution_count": 70,
   "metadata": {},
   "outputs": [
    {
     "data": {
      "text/plain": [
       "0"
      ]
     },
     "execution_count": 70,
     "metadata": {},
     "output_type": "execute_result"
    }
   ],
   "source": [
    "df['office'].isnull().sum()"
   ]
  },
  {
   "cell_type": "code",
   "execution_count": 71,
   "metadata": {},
   "outputs": [
    {
     "data": {
      "text/plain": [
       "(5956, 27)"
      ]
     },
     "execution_count": 71,
     "metadata": {},
     "output_type": "execute_result"
    }
   ],
   "source": [
    "df.shape"
   ]
  },
  {
   "cell_type": "code",
   "execution_count": 72,
   "metadata": {},
   "outputs": [],
   "source": [
    "transaction_per_office = df.groupby('office').size().reset_index(name='Todos')"
   ]
  },
  {
   "cell_type": "code",
   "execution_count": 73,
   "metadata": {},
   "outputs": [
    {
     "name": "stdout",
     "output_type": "stream",
     "text": [
      "5956\n"
     ]
    }
   ],
   "source": [
    "print(sum(transaction_per_office['Todos']))"
   ]
  },
  {
   "cell_type": "code",
   "execution_count": 74,
   "metadata": {},
   "outputs": [],
   "source": [
    "only_approval = df_approval.groupby('office').size().reset_index(name='approval')"
   ]
  },
  {
   "cell_type": "code",
   "execution_count": 75,
   "metadata": {},
   "outputs": [
    {
     "name": "stdout",
     "output_type": "stream",
     "text": [
      "4405\n"
     ]
    }
   ],
   "source": [
    "print(sum(only_approval['approval']))"
   ]
  },
  {
   "cell_type": "code",
   "execution_count": 76,
   "metadata": {},
   "outputs": [],
   "source": [
    "merged = pd.merge(transaction_per_office, only_approval, on='office', how='left')\n"
   ]
  },
  {
   "cell_type": "code",
   "execution_count": 77,
   "metadata": {},
   "outputs": [],
   "source": [
    "merged = merged.fillna(0)"
   ]
  },
  {
   "cell_type": "code",
   "execution_count": 78,
   "metadata": {},
   "outputs": [
    {
     "name": "stdout",
     "output_type": "stream",
     "text": [
      "5956\n",
      "4405.0\n"
     ]
    }
   ],
   "source": [
    "print(sum(merged['Todos']))\n",
    "print(sum(merged['approval']))"
   ]
  },
  {
   "cell_type": "code",
   "execution_count": 79,
   "metadata": {},
   "outputs": [],
   "source": [
    "merged['tasa_aprovacion'] = round((merged['approval'] / merged['Todos']) * 100)"
   ]
  },
  {
   "cell_type": "code",
   "execution_count": 85,
   "metadata": {},
   "outputs": [
    {
     "data": {
      "text/html": [
       "<div>\n",
       "<style scoped>\n",
       "    .dataframe tbody tr th:only-of-type {\n",
       "        vertical-align: middle;\n",
       "    }\n",
       "\n",
       "    .dataframe tbody tr th {\n",
       "        vertical-align: top;\n",
       "    }\n",
       "\n",
       "    .dataframe thead th {\n",
       "        text-align: right;\n",
       "    }\n",
       "</style>\n",
       "<table border=\"1\" class=\"dataframe\">\n",
       "  <thead>\n",
       "    <tr style=\"text-align: right;\">\n",
       "      <th></th>\n",
       "      <th>office</th>\n",
       "      <th>Todos</th>\n",
       "      <th>approval</th>\n",
       "      <th>tasa_aprovacion</th>\n",
       "    </tr>\n",
       "  </thead>\n",
       "  <tbody>\n",
       "    <tr>\n",
       "      <th>154</th>\n",
       "      <td>50C</td>\n",
       "      <td>963</td>\n",
       "      <td>767.0</td>\n",
       "      <td>80.0</td>\n",
       "    </tr>\n",
       "    <tr>\n",
       "      <th>155</th>\n",
       "      <td>50N</td>\n",
       "      <td>846</td>\n",
       "      <td>655.0</td>\n",
       "      <td>77.0</td>\n",
       "    </tr>\n",
       "    <tr>\n",
       "      <th>0</th>\n",
       "      <td>001</td>\n",
       "      <td>435</td>\n",
       "      <td>380.0</td>\n",
       "      <td>87.0</td>\n",
       "    </tr>\n",
       "    <tr>\n",
       "      <th>156</th>\n",
       "      <td>50S</td>\n",
       "      <td>432</td>\n",
       "      <td>297.0</td>\n",
       "      <td>69.0</td>\n",
       "    </tr>\n",
       "    <tr>\n",
       "      <th>138</th>\n",
       "      <td>370</td>\n",
       "      <td>392</td>\n",
       "      <td>315.0</td>\n",
       "      <td>80.0</td>\n",
       "    </tr>\n",
       "    <tr>\n",
       "      <th>...</th>\n",
       "      <td>...</td>\n",
       "      <td>...</td>\n",
       "      <td>...</td>\n",
       "      <td>...</td>\n",
       "    </tr>\n",
       "    <tr>\n",
       "      <th>128</th>\n",
       "      <td>346</td>\n",
       "      <td>1</td>\n",
       "      <td>1.0</td>\n",
       "      <td>100.0</td>\n",
       "    </tr>\n",
       "    <tr>\n",
       "      <th>104</th>\n",
       "      <td>272</td>\n",
       "      <td>1</td>\n",
       "      <td>1.0</td>\n",
       "      <td>100.0</td>\n",
       "    </tr>\n",
       "    <tr>\n",
       "      <th>120</th>\n",
       "      <td>318</td>\n",
       "      <td>1</td>\n",
       "      <td>1.0</td>\n",
       "      <td>100.0</td>\n",
       "    </tr>\n",
       "    <tr>\n",
       "      <th>55</th>\n",
       "      <td>122</td>\n",
       "      <td>1</td>\n",
       "      <td>1.0</td>\n",
       "      <td>100.0</td>\n",
       "    </tr>\n",
       "    <tr>\n",
       "      <th>1</th>\n",
       "      <td>002</td>\n",
       "      <td>1</td>\n",
       "      <td>0.0</td>\n",
       "      <td>0.0</td>\n",
       "    </tr>\n",
       "  </tbody>\n",
       "</table>\n",
       "<p>158 rows × 4 columns</p>\n",
       "</div>"
      ],
      "text/plain": [
       "    office  Todos  approval  tasa_aprovacion\n",
       "154    50C    963     767.0             80.0\n",
       "155    50N    846     655.0             77.0\n",
       "0      001    435     380.0             87.0\n",
       "156    50S    432     297.0             69.0\n",
       "138    370    392     315.0             80.0\n",
       "..     ...    ...       ...              ...\n",
       "128    346      1       1.0            100.0\n",
       "104    272      1       1.0            100.0\n",
       "120    318      1       1.0            100.0\n",
       "55     122      1       1.0            100.0\n",
       "1      002      1       0.0              0.0\n",
       "\n",
       "[158 rows x 4 columns]"
      ]
     },
     "execution_count": 85,
     "metadata": {},
     "output_type": "execute_result"
    }
   ],
   "source": [
    "merged.sort_values(by='Todos', ascending=0)"
   ]
  }
 ],
 "metadata": {
  "kernelspec": {
   "display_name": "Python 3",
   "language": "python",
   "name": "python3"
  },
  "language_info": {
   "codemirror_mode": {
    "name": "ipython",
    "version": 3
   },
   "file_extension": ".py",
   "mimetype": "text/x-python",
   "name": "python",
   "nbconvert_exporter": "python",
   "pygments_lexer": "ipython3",
   "version": "3.10.4"
  },
  "orig_nbformat": 4
 },
 "nbformat": 4,
 "nbformat_minor": 2
}
